{
 "cells": [
  {
   "cell_type": "markdown",
   "metadata": {},
   "source": [
    "# CKO JAR Revision"
   ]
  },
  {
   "cell_type": "code",
   "execution_count": 90,
   "metadata": {},
   "outputs": [],
   "source": [
    "import pandas as pd, numpy as np\n",
    "import rpy2.rinterface #ggplot tool"
   ]
  },
  {
   "cell_type": "markdown",
   "metadata": {},
   "source": [
    "## Review TNIC-3 data"
   ]
  },
  {
   "cell_type": "code",
   "execution_count": 91,
   "metadata": {},
   "outputs": [],
   "source": [
    "\"\"\"\n",
    "Hoberg and Philips TNIC3 database\n",
    "\"\"\"\n",
    "tnic = pd.read_csv('/Users/ohn0000/Project/cko/0_data/external/tnic3_data.txt', delimiter='\\t', header=0)\n",
    "tnic.dropna(inplace=True)"
   ]
  },
  {
   "cell_type": "code",
   "execution_count": 92,
   "metadata": {},
   "outputs": [],
   "source": [
    "# \"\"\"\n",
    "# Subset to firms with more than 20 competitors each year\n",
    "# \"\"\"\n",
    "# tnic.set_index([\"gvkey1\", \"year\", \"gvkey2\"], inplace=True, verify_integrity=True)\n",
    "# tnic_industry = tnic.groupby(level=['gvkey1', 'year']).apply(lambda x: x.nlargest(20, 'score')).reset_index(level=(0,1), drop=True)\n",
    "# tnic_industry = tnic_industry.groupby(level=['gvkey1', 'year']).filter(lambda x: x.size == 20)\n",
    "# tnic.reset_index(inplace=True)\n",
    "\n",
    "# \"\"\"\n",
    "# Save tnic_industry to a csv file\n",
    "# \"\"\"\n",
    "# tnic_industry.to_csv('/Users/ohn0000/Project/cko/2_pipeline/tnic_sub.csv')"
   ]
  },
  {
   "cell_type": "code",
   "execution_count": 93,
   "metadata": {},
   "outputs": [],
   "source": [
    "tnic_industry = pd.read_csv('/Users/ohn0000/Project/cko/2_pipeline/tnic_sub.csv', header=0)"
   ]
  },
  {
   "cell_type": "code",
   "execution_count": null,
   "metadata": {},
   "outputs": [],
   "source": [
    "# tnic_industry['gvkey1'] = tnic_industry['gvkey1'].apply(lambda x: str(x).zfill(6))\n",
    "# tnic_industry['gvkey2'] = tnic_industry['gvkey2'].apply(lambda x: str(x).zfill(6))"
   ]
  },
  {
   "cell_type": "markdown",
   "metadata": {},
   "source": [
    "Remeber that _year_ in __tnic_industry__ is the base year for identifying close competitors. Accordingly, _lead1_ is the M&A year and _lead2_ is the year following M&A."
   ]
  },
  {
   "cell_type": "markdown",
   "metadata": {},
   "source": [
    "Shift years in __tnic__ to get _lead1_ similarity scores"
   ]
  },
  {
   "cell_type": "code",
   "execution_count": 94,
   "metadata": {},
   "outputs": [],
   "source": [
    "tnic['year'] = tnic['year'] - 1\n",
    "tnic.rename(columns={'score':'score_lead1'}, inplace=True)"
   ]
  },
  {
   "cell_type": "code",
   "execution_count": 95,
   "metadata": {},
   "outputs": [],
   "source": [
    "tnic_industry = pd.merge(tnic_industry, tnic, how='left', left_on=['gvkey1', 'year', 'gvkey2'], right_on=['gvkey1', 'year', 'gvkey2'])"
   ]
  },
  {
   "cell_type": "markdown",
   "metadata": {},
   "source": [
    "Shift years one more time to get _lead2_ similarity scores."
   ]
  },
  {
   "cell_type": "code",
   "execution_count": 96,
   "metadata": {},
   "outputs": [],
   "source": [
    "tnic['year'] = tnic['year'] - 1\n",
    "tnic.rename(columns={'score_lead1':'score_lead2'}, inplace=True)"
   ]
  },
  {
   "cell_type": "code",
   "execution_count": 97,
   "metadata": {},
   "outputs": [],
   "source": [
    "tnic_industry = pd.merge(tnic_industry, tnic, how='left', left_on=['gvkey1', 'year', 'gvkey2'], right_on=['gvkey1', 'year', 'gvkey2'])"
   ]
  },
  {
   "cell_type": "code",
   "execution_count": 98,
   "metadata": {},
   "outputs": [],
   "source": [
    "tnic_industry.drop_duplicates(inplace=True)"
   ]
  },
  {
   "cell_type": "code",
   "execution_count": 99,
   "metadata": {},
   "outputs": [],
   "source": [
    "tnic_industry.set_index(['gvkey1', 'year', 'gvkey2'], inplace=True, verify_integrity=True)"
   ]
  },
  {
   "cell_type": "markdown",
   "metadata": {},
   "source": [
    "Reset __tnic__ years and column name back to original"
   ]
  },
  {
   "cell_type": "code",
   "execution_count": 100,
   "metadata": {},
   "outputs": [],
   "source": [
    "tnic['year'] = tnic['year'] + 2\n",
    "tnic.rename(columns={'score_lead2':'score'}, inplace=True)"
   ]
  },
  {
   "cell_type": "markdown",
   "metadata": {},
   "source": [
    "Average TNIC similarity score across 20-closest competitors"
   ]
  },
  {
   "cell_type": "code",
   "execution_count": 170,
   "metadata": {},
   "outputs": [],
   "source": [
    "avg_sim = tnic_industry.groupby(level=['gvkey1','year']).mean()\n",
    "avg_sim = avg_sim.join(tnic_industry.groupby(level=['gvkey1','year']).count().add_prefix(\"n_\"))\n",
    "avg_sim = avg_sim.join(tnic_industry.fillna(0).groupby(level=['gvkey1','year']).mean().add_prefix(\"z_\"))"
   ]
  },
  {
   "cell_type": "code",
   "execution_count": 171,
   "metadata": {},
   "outputs": [
    {
     "data": {
      "text/html": [
       "<div>\n",
       "<style scoped>\n",
       "    .dataframe tbody tr th:only-of-type {\n",
       "        vertical-align: middle;\n",
       "    }\n",
       "\n",
       "    .dataframe tbody tr th {\n",
       "        vertical-align: top;\n",
       "    }\n",
       "\n",
       "    .dataframe thead th {\n",
       "        text-align: right;\n",
       "    }\n",
       "</style>\n",
       "<table border=\"1\" class=\"dataframe\">\n",
       "  <thead>\n",
       "    <tr style=\"text-align: right;\">\n",
       "      <th></th>\n",
       "      <th></th>\n",
       "      <th>score</th>\n",
       "      <th>score_lead1</th>\n",
       "      <th>score_lead2</th>\n",
       "      <th>n_score</th>\n",
       "      <th>n_score_lead1</th>\n",
       "      <th>n_score_lead2</th>\n",
       "      <th>z_score</th>\n",
       "      <th>z_score_lead1</th>\n",
       "      <th>z_score_lead2</th>\n",
       "    </tr>\n",
       "    <tr>\n",
       "      <th>gvkey1</th>\n",
       "      <th>year</th>\n",
       "      <th></th>\n",
       "      <th></th>\n",
       "      <th></th>\n",
       "      <th></th>\n",
       "      <th></th>\n",
       "      <th></th>\n",
       "      <th></th>\n",
       "      <th></th>\n",
       "      <th></th>\n",
       "    </tr>\n",
       "  </thead>\n",
       "  <tbody>\n",
       "    <tr>\n",
       "      <th rowspan=\"2\" valign=\"top\">1004</th>\n",
       "      <th>1997</th>\n",
       "      <td>0.028105</td>\n",
       "      <td>0.016573</td>\n",
       "      <td>0.025478</td>\n",
       "      <td>20</td>\n",
       "      <td>11</td>\n",
       "      <td>9</td>\n",
       "      <td>0.028105</td>\n",
       "      <td>0.009115</td>\n",
       "      <td>0.011465</td>\n",
       "    </tr>\n",
       "    <tr>\n",
       "      <th>1998</th>\n",
       "      <td>0.015110</td>\n",
       "      <td>0.021625</td>\n",
       "      <td>0.033844</td>\n",
       "      <td>20</td>\n",
       "      <td>12</td>\n",
       "      <td>9</td>\n",
       "      <td>0.015110</td>\n",
       "      <td>0.012975</td>\n",
       "      <td>0.015230</td>\n",
       "    </tr>\n",
       "    <tr>\n",
       "      <th rowspan=\"3\" valign=\"top\">1013</th>\n",
       "      <th>1996</th>\n",
       "      <td>0.095175</td>\n",
       "      <td>0.088694</td>\n",
       "      <td>0.087237</td>\n",
       "      <td>20</td>\n",
       "      <td>17</td>\n",
       "      <td>16</td>\n",
       "      <td>0.095175</td>\n",
       "      <td>0.075390</td>\n",
       "      <td>0.069790</td>\n",
       "    </tr>\n",
       "    <tr>\n",
       "      <th>1997</th>\n",
       "      <td>0.097925</td>\n",
       "      <td>0.092165</td>\n",
       "      <td>0.078647</td>\n",
       "      <td>20</td>\n",
       "      <td>20</td>\n",
       "      <td>19</td>\n",
       "      <td>0.097925</td>\n",
       "      <td>0.092165</td>\n",
       "      <td>0.074715</td>\n",
       "    </tr>\n",
       "    <tr>\n",
       "      <th>1998</th>\n",
       "      <td>0.096375</td>\n",
       "      <td>0.077726</td>\n",
       "      <td>0.068343</td>\n",
       "      <td>20</td>\n",
       "      <td>19</td>\n",
       "      <td>14</td>\n",
       "      <td>0.096375</td>\n",
       "      <td>0.073840</td>\n",
       "      <td>0.047840</td>\n",
       "    </tr>\n",
       "    <tr>\n",
       "      <th>...</th>\n",
       "      <th>...</th>\n",
       "      <td>...</td>\n",
       "      <td>...</td>\n",
       "      <td>...</td>\n",
       "      <td>...</td>\n",
       "      <td>...</td>\n",
       "      <td>...</td>\n",
       "      <td>...</td>\n",
       "      <td>...</td>\n",
       "      <td>...</td>\n",
       "    </tr>\n",
       "    <tr>\n",
       "      <th rowspan=\"3\" valign=\"top\">317264</th>\n",
       "      <th>2015</th>\n",
       "      <td>0.097115</td>\n",
       "      <td>0.081853</td>\n",
       "      <td>0.080572</td>\n",
       "      <td>20</td>\n",
       "      <td>17</td>\n",
       "      <td>18</td>\n",
       "      <td>0.097115</td>\n",
       "      <td>0.069575</td>\n",
       "      <td>0.072515</td>\n",
       "    </tr>\n",
       "    <tr>\n",
       "      <th>2016</th>\n",
       "      <td>0.098755</td>\n",
       "      <td>0.101350</td>\n",
       "      <td>NaN</td>\n",
       "      <td>20</td>\n",
       "      <td>20</td>\n",
       "      <td>0</td>\n",
       "      <td>0.098755</td>\n",
       "      <td>0.101350</td>\n",
       "      <td>0.000000</td>\n",
       "    </tr>\n",
       "    <tr>\n",
       "      <th>2017</th>\n",
       "      <td>0.101895</td>\n",
       "      <td>NaN</td>\n",
       "      <td>NaN</td>\n",
       "      <td>20</td>\n",
       "      <td>0</td>\n",
       "      <td>0</td>\n",
       "      <td>0.101895</td>\n",
       "      <td>0.000000</td>\n",
       "      <td>0.000000</td>\n",
       "    </tr>\n",
       "    <tr>\n",
       "      <th rowspan=\"2\" valign=\"top\">318728</th>\n",
       "      <th>2016</th>\n",
       "      <td>0.144200</td>\n",
       "      <td>0.138850</td>\n",
       "      <td>NaN</td>\n",
       "      <td>20</td>\n",
       "      <td>18</td>\n",
       "      <td>0</td>\n",
       "      <td>0.144200</td>\n",
       "      <td>0.124965</td>\n",
       "      <td>0.000000</td>\n",
       "    </tr>\n",
       "    <tr>\n",
       "      <th>2017</th>\n",
       "      <td>0.152720</td>\n",
       "      <td>NaN</td>\n",
       "      <td>NaN</td>\n",
       "      <td>20</td>\n",
       "      <td>0</td>\n",
       "      <td>0</td>\n",
       "      <td>0.152720</td>\n",
       "      <td>0.000000</td>\n",
       "      <td>0.000000</td>\n",
       "    </tr>\n",
       "  </tbody>\n",
       "</table>\n",
       "<p>73282 rows × 9 columns</p>\n",
       "</div>"
      ],
      "text/plain": [
       "                score  score_lead1  score_lead2  n_score  n_score_lead1  \\\n",
       "gvkey1 year                                                               \n",
       "1004   1997  0.028105     0.016573     0.025478       20             11   \n",
       "       1998  0.015110     0.021625     0.033844       20             12   \n",
       "1013   1996  0.095175     0.088694     0.087237       20             17   \n",
       "       1997  0.097925     0.092165     0.078647       20             20   \n",
       "       1998  0.096375     0.077726     0.068343       20             19   \n",
       "...               ...          ...          ...      ...            ...   \n",
       "317264 2015  0.097115     0.081853     0.080572       20             17   \n",
       "       2016  0.098755     0.101350          NaN       20             20   \n",
       "       2017  0.101895          NaN          NaN       20              0   \n",
       "318728 2016  0.144200     0.138850          NaN       20             18   \n",
       "       2017  0.152720          NaN          NaN       20              0   \n",
       "\n",
       "             n_score_lead2   z_score  z_score_lead1  z_score_lead2  \n",
       "gvkey1 year                                                         \n",
       "1004   1997              9  0.028105       0.009115       0.011465  \n",
       "       1998              9  0.015110       0.012975       0.015230  \n",
       "1013   1996             16  0.095175       0.075390       0.069790  \n",
       "       1997             19  0.097925       0.092165       0.074715  \n",
       "       1998             14  0.096375       0.073840       0.047840  \n",
       "...                    ...       ...            ...            ...  \n",
       "317264 2015             18  0.097115       0.069575       0.072515  \n",
       "       2016              0  0.098755       0.101350       0.000000  \n",
       "       2017              0  0.101895       0.000000       0.000000  \n",
       "318728 2016              0  0.144200       0.124965       0.000000  \n",
       "       2017              0  0.152720       0.000000       0.000000  \n",
       "\n",
       "[73282 rows x 9 columns]"
      ]
     },
     "execution_count": 171,
     "metadata": {},
     "output_type": "execute_result"
    }
   ],
   "source": [
    "avg_sim"
   ]
  },
  {
   "cell_type": "code",
   "execution_count": 175,
   "metadata": {},
   "outputs": [
    {
     "data": {
      "text/plain": [
       "score            54963\n",
       "score_lead1      54963\n",
       "score_lead2      54963\n",
       "n_score          54963\n",
       "n_score_lead1    54963\n",
       "n_score_lead2    54963\n",
       "z_score          54963\n",
       "z_score_lead1    54963\n",
       "z_score_lead2    54963\n",
       "dtype: int64"
      ]
     },
     "execution_count": 175,
     "metadata": {},
     "output_type": "execute_result"
    }
   ],
   "source": [
    "# avg_sim.dropna() \n",
    "# # 54963 observations with non-missing scores\n",
    "\n",
    "# avg_sim[(avg_sim['n_score'] == 20) & (avg_sim['n_score_lead1'] == 20) & (avg_sim['n_score_lead2'] == 20)]\n",
    "# # 991 observations with all 20 competitors present in TNIC"
   ]
  },
  {
   "cell_type": "markdown",
   "metadata": {},
   "source": [
    "## IV candidates"
   ]
  },
  {
   "cell_type": "markdown",
   "metadata": {},
   "source": [
    "The materiality measure based on deal value will be the last resort for the IV.   \n",
    "Alternatively, 2SLS using multiple IVs is feasible.\n",
    "\n",
    "Candidates\n",
    "* Max deal value\n",
    "* Sum deal value\n",
    "* Datedif between _dateeff_ and _datadate_"
   ]
  },
  {
   "cell_type": "markdown",
   "metadata": {},
   "source": [
    "## Import previously constructed datasets"
   ]
  },
  {
   "cell_type": "markdown",
   "metadata": {},
   "source": [
    "### Materiality of M&A"
   ]
  },
  {
   "cell_type": "code",
   "execution_count": 105,
   "metadata": {},
   "outputs": [],
   "source": [
    "material = pd.read_csv('/Users/ohn0000/Project/cko/0_data/external/materiality.csv')\n",
    "material.set_index([\"year\", \"gvkey1\"], inplace=True, verify_integrity=True)"
   ]
  },
  {
   "cell_type": "markdown",
   "metadata": {},
   "source": [
    "### M&A Disclosure"
   ]
  },
  {
   "cell_type": "markdown",
   "metadata": {},
   "source": [
    "Disclosure also might need additonal data collection."
   ]
  },
  {
   "cell_type": "code",
   "execution_count": 123,
   "metadata": {},
   "outputs": [],
   "source": [
    "disc = pd.read_csv('/Users/ohn0000/Project/cko/0_data/manual/disc.csv', parse_dates=['DATADATE'])\n",
    "disc['CIK'] = disc['CIK'].apply(lambda x: str(int(x)).zfill(10) if pd.notnull(x) else None)"
   ]
  },
  {
   "cell_type": "code",
   "execution_count": 128,
   "metadata": {},
   "outputs": [],
   "source": [
    "disc.rename(columns={\"GVKEY\":\"gvkey1\", \"FYEAR\":\"year\"}, inplace=True)\n",
    "disc.set_index([\"year\", \"gvkey1\"], inplace=True, verify_integrity=True)"
   ]
  },
  {
   "cell_type": "code",
   "execution_count": 129,
   "metadata": {},
   "outputs": [],
   "source": [
    "manual = disc.join(material)[['DATADATE', 'CIK', 'TGTAT_ACQAT', 'TGTDVAL_ACQAT', 'MD_A', 'PROFORMA']].sort_index()"
   ]
  },
  {
   "cell_type": "markdown",
   "metadata": {},
   "source": [
    "### SDC and Compustat Link File"
   ]
  },
  {
   "cell_type": "markdown",
   "metadata": {},
   "source": [
    "The link file is from [Michael Ewens](https://github.com/michaelewens/SDC-to-Compustat-Mapping.git). Cite papers below."
   ]
  },
  {
   "cell_type": "markdown",
   "metadata": {},
   "source": [
    "```\n",
    "@article{phillips2013r,\n",
    "  title={R\\&D and the Incentives from Merger and Acquisition Activity},\n",
    "  author={Phillips, Gordon M and Zhdanov, Alexei},\n",
    "  journal={The Review of Financial Studies},\n",
    "  volume={26},\n",
    "  number={1},\n",
    "  pages={34--78},\n",
    "  year={2013},\n",
    "  publisher={Society for Financial Studies}\n",
    "  }\n",
    " ```"
   ]
  },
  {
   "cell_type": "markdown",
   "metadata": {},
   "source": [
    "```\n",
    "@article{ewensPetersWang2018,\n",
    " title={Acquisition prices and the measurement of intangible capital},\n",
    " author={Ewens, Michael and Peters, Ryan and Wang, Sean},\n",
    " journal={Working Paper}\n",
    " year={2018}\n",
    " }\n",
    "```"
   ]
  },
  {
   "cell_type": "code",
   "execution_count": 176,
   "metadata": {},
   "outputs": [],
   "source": [
    "sdc_link = pd.read_csv('/Users/ohn0000/Project/cko/0_data/external/dealnum_to_gvkey.csv', \n",
    "                       dtype={'DealNumber':'Int64', 'agvkey':'Int64', 'tgvkey':'Int64'}, index_col='DealNumber')"
   ]
  },
  {
   "cell_type": "code",
   "execution_count": 177,
   "metadata": {},
   "outputs": [],
   "source": [
    "# import wrds\n",
    "# db = wrds.Connection(wrds_username = \"yaera\")\n",
    "# ma_details_desc = db.describe_table('sdc', 'ma_details').sort_values('name')\n",
    "# with pd.option_context('display.max_rows', None):\n",
    "#     print(ma_details_desc)"
   ]
  },
  {
   "cell_type": "markdown",
   "metadata": {},
   "source": [
    "|     Variable | Description                    |\n",
    "|:------------:|:-------------------------------|\n",
    "|bookvalue     |Target Book Value (\\$mil)       |\n",
    "|compete       |Competing Bidder (Y/N)          |\n",
    "|competecode   |Competing Bid Deal Code         |  \n",
    "|dateann       |Date Announced                  |\n",
    "|dateannest    |_dateann_ is estimated (Y/N)    | \n",
    "|dateeff       |Date Effective                  | \n",
    "|ebitltm       |Target EBIT LTM (\\$mil)         |\n",
    "|pct_cash      |Percentage of consideration paid in cash|\n",
    "|pct_other|Percentage of consideration paid in other then cash or stock|\n",
    "|pct_stk|Percentage of consideration paid in stock|\n",
    "|pct_unknown|Percentage of consideration which is unknown|\n",
    "|ptincltm|Target Pre-Tax Income LTM (\\$mil)|\n",
    "|salesltm|Target Sales LTM (\\$mil)|\n",
    "|rankval|Ranking Value incl Net Debt of Target (\\$mil)|"
   ]
  },
  {
   "cell_type": "markdown",
   "metadata": {},
   "source": [
    "Run sql query below on _WRDS_"
   ]
  },
  {
   "cell_type": "code",
   "execution_count": 178,
   "metadata": {},
   "outputs": [],
   "source": [
    "# import wrds\n",
    "# sdc_query = \"\"\"\n",
    "# select master_deal_no as DealNumber, \n",
    "#         bookvalue, \n",
    "#         compete, \n",
    "#         competecode, \n",
    "#         dateann, \n",
    "#         dateannest, \n",
    "#         dateeff, \n",
    "#         ebitltm, \n",
    "#         pct_cash,\n",
    "#         pct_other,\n",
    "#         pct_stk,\n",
    "#         pct_unknown,\n",
    "#         ptincltm,\n",
    "#         salesltm,\n",
    "#         rankval\n",
    "# from sdc.ma_details\n",
    "# where dateeff is not null \n",
    "# \"\"\"\n",
    "# # and master_deal_no in %(deal_no)s\n",
    "# sdc = db.raw_sql(sdc_query, date_cols=['dateann', 'dateeff'])\n",
    "# sdc.to_pickle('/home/upenn/yaera/sdc.pkl')"
   ]
  },
  {
   "cell_type": "code",
   "execution_count": 179,
   "metadata": {},
   "outputs": [],
   "source": [
    "sdc = pd.read_pickle('/Users/ohn0000/Project/cko/0_data/external/sdc.pkl')\n",
    "sdc.drop_duplicates('dealnumber', inplace = True)\n",
    "sdc['dealnumber'] = sdc['dealnumber'].apply(int)\n",
    "\n",
    "# clear up values and change dtype to 'float'\n",
    "for column in ['bookvalue', 'ebitltm', 'pct_cash', 'pct_other', 'pct_stk', 'pct_unknown', 'ptincltm', 'salesltm', 'rankval']:\n",
    "    sdc[column] = sdc[column].apply(lambda x: np.NaN if x == '*********' else (np.NaN if pd.isna(x) else (float(x.replace(',', '')) if isinstance(x, str) else float(x))))\n",
    "    sdc[column].astype('float16')"
   ]
  },
  {
   "cell_type": "code",
   "execution_count": 180,
   "metadata": {},
   "outputs": [],
   "source": [
    "sdc_sub = pd.merge(sdc_link, sdc, left_index=True, right_on='dealnumber').drop('dealnumber', axis='columns')\n",
    "sdc_sub.index.name = 'dealnumber'"
   ]
  },
  {
   "cell_type": "code",
   "execution_count": 181,
   "metadata": {},
   "outputs": [],
   "source": [
    "sdc_sub.sort_values(['agvkey', 'dateeff'], inplace=True)"
   ]
  },
  {
   "cell_type": "code",
   "execution_count": 182,
   "metadata": {},
   "outputs": [
    {
     "data": {
      "text/html": [
       "<div>\n",
       "<style scoped>\n",
       "    .dataframe tbody tr th:only-of-type {\n",
       "        vertical-align: middle;\n",
       "    }\n",
       "\n",
       "    .dataframe tbody tr th {\n",
       "        vertical-align: top;\n",
       "    }\n",
       "\n",
       "    .dataframe thead th {\n",
       "        text-align: right;\n",
       "    }\n",
       "</style>\n",
       "<table border=\"1\" class=\"dataframe\">\n",
       "  <thead>\n",
       "    <tr style=\"text-align: right;\">\n",
       "      <th></th>\n",
       "      <th>agvkey</th>\n",
       "      <th>tgvkey</th>\n",
       "      <th>bookvalue</th>\n",
       "      <th>compete</th>\n",
       "      <th>competecode</th>\n",
       "      <th>dateann</th>\n",
       "      <th>dateannest</th>\n",
       "      <th>dateeff</th>\n",
       "      <th>ebitltm</th>\n",
       "      <th>pct_cash</th>\n",
       "      <th>pct_other</th>\n",
       "      <th>pct_stk</th>\n",
       "      <th>pct_unknown</th>\n",
       "      <th>ptincltm</th>\n",
       "      <th>salesltm</th>\n",
       "      <th>rankval</th>\n",
       "    </tr>\n",
       "    <tr>\n",
       "      <th>dealnumber</th>\n",
       "      <th></th>\n",
       "      <th></th>\n",
       "      <th></th>\n",
       "      <th></th>\n",
       "      <th></th>\n",
       "      <th></th>\n",
       "      <th></th>\n",
       "      <th></th>\n",
       "      <th></th>\n",
       "      <th></th>\n",
       "      <th></th>\n",
       "      <th></th>\n",
       "      <th></th>\n",
       "      <th></th>\n",
       "      <th></th>\n",
       "      <th></th>\n",
       "    </tr>\n",
       "  </thead>\n",
       "  <tbody>\n",
       "    <tr>\n",
       "      <th>2238597</th>\n",
       "      <td>1004</td>\n",
       "      <td>NaN</td>\n",
       "      <td>NaN</td>\n",
       "      <td>None</td>\n",
       "      <td>NaN</td>\n",
       "      <td>1997-05-15</td>\n",
       "      <td>No</td>\n",
       "      <td>1997-06-19</td>\n",
       "      <td>NaN</td>\n",
       "      <td>NaN</td>\n",
       "      <td>NaN</td>\n",
       "      <td>NaN</td>\n",
       "      <td>NaN</td>\n",
       "      <td>NaN</td>\n",
       "      <td>45.000</td>\n",
       "      <td>NaN</td>\n",
       "    </tr>\n",
       "    <tr>\n",
       "      <th>2273624</th>\n",
       "      <td>1004</td>\n",
       "      <td>NaN</td>\n",
       "      <td>NaN</td>\n",
       "      <td>None</td>\n",
       "      <td>NaN</td>\n",
       "      <td>1997-10-24</td>\n",
       "      <td>No</td>\n",
       "      <td>1997-10-24</td>\n",
       "      <td>NaN</td>\n",
       "      <td>NaN</td>\n",
       "      <td>NaN</td>\n",
       "      <td>NaN</td>\n",
       "      <td>NaN</td>\n",
       "      <td>NaN</td>\n",
       "      <td>18.000</td>\n",
       "      <td>NaN</td>\n",
       "    </tr>\n",
       "    <tr>\n",
       "      <th>2570557</th>\n",
       "      <td>1004</td>\n",
       "      <td>1300</td>\n",
       "      <td>NaN</td>\n",
       "      <td>None</td>\n",
       "      <td>NaN</td>\n",
       "      <td>2000-09-29</td>\n",
       "      <td>No</td>\n",
       "      <td>2000-09-29</td>\n",
       "      <td>NaN</td>\n",
       "      <td>18.75</td>\n",
       "      <td>81.25</td>\n",
       "      <td>NaN</td>\n",
       "      <td>NaN</td>\n",
       "      <td>NaN</td>\n",
       "      <td>20.000</td>\n",
       "      <td>0.016</td>\n",
       "    </tr>\n",
       "    <tr>\n",
       "      <th>3307499</th>\n",
       "      <td>1004</td>\n",
       "      <td>NaN</td>\n",
       "      <td>NaN</td>\n",
       "      <td>None</td>\n",
       "      <td>NaN</td>\n",
       "      <td>2007-04-03</td>\n",
       "      <td>No</td>\n",
       "      <td>2007-04-03</td>\n",
       "      <td>NaN</td>\n",
       "      <td>NaN</td>\n",
       "      <td>NaN</td>\n",
       "      <td>NaN</td>\n",
       "      <td>NaN</td>\n",
       "      <td>NaN</td>\n",
       "      <td>NaN</td>\n",
       "      <td>NaN</td>\n",
       "    </tr>\n",
       "    <tr>\n",
       "      <th>3419980</th>\n",
       "      <td>1004</td>\n",
       "      <td>NaN</td>\n",
       "      <td>NaN</td>\n",
       "      <td>None</td>\n",
       "      <td>NaN</td>\n",
       "      <td>2007-11-09</td>\n",
       "      <td>No</td>\n",
       "      <td>2007-12-03</td>\n",
       "      <td>NaN</td>\n",
       "      <td>NaN</td>\n",
       "      <td>NaN</td>\n",
       "      <td>NaN</td>\n",
       "      <td>NaN</td>\n",
       "      <td>NaN</td>\n",
       "      <td>NaN</td>\n",
       "      <td>NaN</td>\n",
       "    </tr>\n",
       "    <tr>\n",
       "      <th>...</th>\n",
       "      <td>...</td>\n",
       "      <td>...</td>\n",
       "      <td>...</td>\n",
       "      <td>...</td>\n",
       "      <td>...</td>\n",
       "      <td>...</td>\n",
       "      <td>...</td>\n",
       "      <td>...</td>\n",
       "      <td>...</td>\n",
       "      <td>...</td>\n",
       "      <td>...</td>\n",
       "      <td>...</td>\n",
       "      <td>...</td>\n",
       "      <td>...</td>\n",
       "      <td>...</td>\n",
       "      <td>...</td>\n",
       "    </tr>\n",
       "    <tr>\n",
       "      <th>1195472</th>\n",
       "      <td>NaN</td>\n",
       "      <td>264708</td>\n",
       "      <td>29.5</td>\n",
       "      <td>None</td>\n",
       "      <td>NaN</td>\n",
       "      <td>2016-10-03</td>\n",
       "      <td>No</td>\n",
       "      <td>2017-09-25</td>\n",
       "      <td>281.654</td>\n",
       "      <td>100.00</td>\n",
       "      <td>NaN</td>\n",
       "      <td>NaN</td>\n",
       "      <td>NaN</td>\n",
       "      <td>243.0</td>\n",
       "      <td>4099.586</td>\n",
       "      <td>8261.039</td>\n",
       "    </tr>\n",
       "    <tr>\n",
       "      <th>1225663</th>\n",
       "      <td>NaN</td>\n",
       "      <td>25047</td>\n",
       "      <td>4.1</td>\n",
       "      <td>None</td>\n",
       "      <td>NaN</td>\n",
       "      <td>2016-11-14</td>\n",
       "      <td>No</td>\n",
       "      <td>2017-10-13</td>\n",
       "      <td>38.518</td>\n",
       "      <td>100.00</td>\n",
       "      <td>NaN</td>\n",
       "      <td>NaN</td>\n",
       "      <td>NaN</td>\n",
       "      <td>39.7</td>\n",
       "      <td>158.897</td>\n",
       "      <td>410.192</td>\n",
       "    </tr>\n",
       "    <tr>\n",
       "      <th>1657432</th>\n",
       "      <td>NaN</td>\n",
       "      <td>187490</td>\n",
       "      <td>9.7</td>\n",
       "      <td>None</td>\n",
       "      <td>NaN</td>\n",
       "      <td>2018-10-10</td>\n",
       "      <td>No</td>\n",
       "      <td>2019-01-10</td>\n",
       "      <td>-9.764</td>\n",
       "      <td>100.00</td>\n",
       "      <td>NaN</td>\n",
       "      <td>NaN</td>\n",
       "      <td>NaN</td>\n",
       "      <td>-8.8</td>\n",
       "      <td>351.758</td>\n",
       "      <td>1811.682</td>\n",
       "    </tr>\n",
       "    <tr>\n",
       "      <th>1683744</th>\n",
       "      <td>NaN</td>\n",
       "      <td>175064</td>\n",
       "      <td>-0.4</td>\n",
       "      <td>None</td>\n",
       "      <td>NaN</td>\n",
       "      <td>2018-12-12</td>\n",
       "      <td>No</td>\n",
       "      <td>2019-03-06</td>\n",
       "      <td>-135.542</td>\n",
       "      <td>100.00</td>\n",
       "      <td>NaN</td>\n",
       "      <td>NaN</td>\n",
       "      <td>NaN</td>\n",
       "      <td>-136.2</td>\n",
       "      <td>41.345</td>\n",
       "      <td>195.000</td>\n",
       "    </tr>\n",
       "    <tr>\n",
       "      <th>1709166</th>\n",
       "      <td>NaN</td>\n",
       "      <td>184487</td>\n",
       "      <td>-14.7</td>\n",
       "      <td>None</td>\n",
       "      <td>NaN</td>\n",
       "      <td>2019-02-19</td>\n",
       "      <td>No</td>\n",
       "      <td>2019-04-30</td>\n",
       "      <td>-30.179</td>\n",
       "      <td>NaN</td>\n",
       "      <td>NaN</td>\n",
       "      <td>NaN</td>\n",
       "      <td>100.0</td>\n",
       "      <td>-85.5</td>\n",
       "      <td>127.924</td>\n",
       "      <td>75.600</td>\n",
       "    </tr>\n",
       "  </tbody>\n",
       "</table>\n",
       "<p>35139 rows × 16 columns</p>\n",
       "</div>"
      ],
      "text/plain": [
       "            agvkey  tgvkey  bookvalue compete  competecode    dateann  \\\n",
       "dealnumber                                                              \n",
       "2238597       1004     NaN        NaN    None          NaN 1997-05-15   \n",
       "2273624       1004     NaN        NaN    None          NaN 1997-10-24   \n",
       "2570557       1004    1300        NaN    None          NaN 2000-09-29   \n",
       "3307499       1004     NaN        NaN    None          NaN 2007-04-03   \n",
       "3419980       1004     NaN        NaN    None          NaN 2007-11-09   \n",
       "...            ...     ...        ...     ...          ...        ...   \n",
       "1195472        NaN  264708       29.5    None          NaN 2016-10-03   \n",
       "1225663        NaN   25047        4.1    None          NaN 2016-11-14   \n",
       "1657432        NaN  187490        9.7    None          NaN 2018-10-10   \n",
       "1683744        NaN  175064       -0.4    None          NaN 2018-12-12   \n",
       "1709166        NaN  184487      -14.7    None          NaN 2019-02-19   \n",
       "\n",
       "           dateannest    dateeff  ebitltm  pct_cash  pct_other  pct_stk  \\\n",
       "dealnumber                                                                \n",
       "2238597            No 1997-06-19      NaN       NaN        NaN      NaN   \n",
       "2273624            No 1997-10-24      NaN       NaN        NaN      NaN   \n",
       "2570557            No 2000-09-29      NaN     18.75      81.25      NaN   \n",
       "3307499            No 2007-04-03      NaN       NaN        NaN      NaN   \n",
       "3419980            No 2007-12-03      NaN       NaN        NaN      NaN   \n",
       "...               ...        ...      ...       ...        ...      ...   \n",
       "1195472            No 2017-09-25  281.654    100.00        NaN      NaN   \n",
       "1225663            No 2017-10-13   38.518    100.00        NaN      NaN   \n",
       "1657432            No 2019-01-10   -9.764    100.00        NaN      NaN   \n",
       "1683744            No 2019-03-06 -135.542    100.00        NaN      NaN   \n",
       "1709166            No 2019-04-30  -30.179       NaN        NaN      NaN   \n",
       "\n",
       "            pct_unknown  ptincltm  salesltm   rankval  \n",
       "dealnumber                                             \n",
       "2238597             NaN       NaN    45.000       NaN  \n",
       "2273624             NaN       NaN    18.000       NaN  \n",
       "2570557             NaN       NaN    20.000     0.016  \n",
       "3307499             NaN       NaN       NaN       NaN  \n",
       "3419980             NaN       NaN       NaN       NaN  \n",
       "...                 ...       ...       ...       ...  \n",
       "1195472             NaN     243.0  4099.586  8261.039  \n",
       "1225663             NaN      39.7   158.897   410.192  \n",
       "1657432             NaN      -8.8   351.758  1811.682  \n",
       "1683744             NaN    -136.2    41.345   195.000  \n",
       "1709166           100.0     -85.5   127.924    75.600  \n",
       "\n",
       "[35139 rows x 16 columns]"
      ]
     },
     "execution_count": 182,
     "metadata": {},
     "output_type": "execute_result"
    }
   ],
   "source": [
    "sdc_sub"
   ]
  },
  {
   "cell_type": "code",
   "execution_count": null,
   "metadata": {},
   "outputs": [],
   "source": []
  }
 ],
 "metadata": {
  "kernelspec": {
   "display_name": "Python 3",
   "language": "python",
   "name": "python3"
  },
  "language_info": {
   "codemirror_mode": {
    "name": "ipython",
    "version": 3
   },
   "file_extension": ".py",
   "mimetype": "text/x-python",
   "name": "python",
   "nbconvert_exporter": "python",
   "pygments_lexer": "ipython3",
   "version": "3.7.4"
  }
 },
 "nbformat": 4,
 "nbformat_minor": 2
}
