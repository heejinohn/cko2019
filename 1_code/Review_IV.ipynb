{
 "cells": [
  {
   "cell_type": "markdown",
   "metadata": {},
   "source": [
    "# CKO Revision"
   ]
  },
  {
   "cell_type": "markdown",
   "metadata": {},
   "source": [
    "Compustat firms over 2000 and 2017 that meet the following criteria\n",
    "- All controls including Ravenpack\n",
    "- Delete 6000 <= SIC <= 6999 and utilities\n",
    "- Should be in the HP dataset"
   ]
  },
  {
   "cell_type": "markdown",
   "metadata": {},
   "source": [
    "Merge in with SDC\n",
    "- Should be in Linking table\n",
    "- Merge with SDC: (a) 50% > shares purchased in transaction and (b) Complete\n",
    "- Should have (a) Target LT sales (b) Target market value 4 weeks prior to announcements (c) Deal values (d) Target total assets"
   ]
  },
  {
   "cell_type": "markdown",
   "metadata": {},
   "source": [
    "### Import modules"
   ]
  },
  {
   "cell_type": "code",
   "execution_count": 1,
   "metadata": {},
   "outputs": [],
   "source": [
    "import pandas as pd\n",
    "import numpy as np\n",
    "import rpy2.rinterface #ggplot tool\n",
    "from pandas_profiling import ProfileReport\n",
    "import dask.dataframe as dd\n",
    "import wrds\n",
    "import pandasql as ps\n",
    "import sqlite3"
   ]
  },
  {
   "cell_type": "code",
   "execution_count": null,
   "metadata": {},
   "outputs": [],
   "source": [
    "# ## Review TNIC-3 data\n",
    "\n",
    "# ### Import TNIC3 data from Hoberg and Philips data library \n",
    "\n",
    "# # !wget -P ../2_pipeline/ http://hobergphillips.tuck.dartmouth.edu/idata/tnic3_data.zip\n",
    "# # !unzip -q ../2_pipeline/tnic3_data.zip -d ../2_pipeline/ && rm ../2_pipeline/tnic3_data.zip\n",
    "\n",
    "# \"\"\"\n",
    "# Hoberg and Philips TNIC3 database\n",
    "# \"\"\"\n",
    "# tnic = pd.read_csv('/Users/ohn0000/Dropbox/Project/cko/0_data/external/tnic3_data.txt', \n",
    "#                    delimiter='\\t', header=0, index_col=['gvkey1', 'year', 'gvkey2'])\n",
    "# tnic.dropna(inplace=True)\n",
    "\n",
    "# ### Subset to 20-closest competitors\n",
    "\n",
    "# # tnic_industry = tnic.groupby(level=['gvkey1', 'year'])[\"score\"].nlargest(20).reset_index(level=[0,1], drop=True)\n",
    "# # tnic_industry = tnic_industry.to_frame(name='score')\n",
    "# # tnic_industry.to_pickle('../2_pipeline/tnic_industry.pkl')\n",
    "# tnic_industry = pd.read_pickle('../2_pipeline/tnic_industry.pkl')\n",
    "\n",
    "# ```tnic_industry``` still has firm-years with less than 20 competitors.\n",
    "\n",
    "# # \"\"\"\n",
    "# # Require at least 20 closest competitors\n",
    "# # \"\"\"\n",
    "# # tnicind_sub = tnic.groupby(level=['gvkey1', 'year'])[\"score\"].filter(lambda x: x.size == 20)\n",
    "# # tnicind_sub = tnicind_sub.to_frame(name='score')\n",
    "\n",
    "# \"\"\"\n",
    "# tnic_industry['gvkey1'] = tnic_industry['gvkey1'].apply(lambda x: str(x).zfill(6))\n",
    "# tnic_industry['gvkey2'] = tnic_industry['gvkey2'].apply(lambda x: str(x).zfill(6))\n",
    "# \"\"\"\n",
    "\n",
    "# Remeber that _year_ in __tnic_industry__ is the base year for identifying close competitors. Accordingly, _lead1_ is the M&A year and _lead2_ is the year following M&A.\n",
    "\n",
    "# Readme_tnic3.txt explains that _year_ equals the first four digits of the __compustat__ _datadate_.\n",
    "\n",
    "# ### Shift years in __tnic_industry__ to get _lead1_ and _lead2_ similarity scores\n",
    "\n",
    "# tnic_industry.rename(columns={'score':'score_0'}, inplace=True)\n",
    "\n",
    "# for i in range(1,3):\n",
    "#     colname = 'score' + '_' + str(i)\n",
    "#     tnic_industry['score'] = np.NaN\n",
    "#     tnic_industry.index = tnic_industry.index.set_levels(tnic_industry.index.levels[1] + 1, level=1)\n",
    "#     tnic_industry.update(tnic)\n",
    "#     tnic_industry.rename(columns={'score':colname}, inplace=True)\n",
    "\n",
    "# tnic_industry.reset_index(inplace=True)\n",
    "# tnic_industry[\"year\"] -= 2\n",
    "# tnic_industry.set_index([\"gvkey1\", \"year\", \"gvkey2\"], inplace=True)\n",
    "\n",
    "# tnic_industry.to_pickle('../2_pipeline/tnic_industry.pkl')\n",
    "\n",
    "# ### Run __*tnic_industry.py*__ on _WRDS_ to update lead scores\n",
    "\n",
    "# Many of the _lead1_ and _lead2_ values are missing. Grab these values from __TNIC_Advanced__ uploaded on _WRDS_. \n",
    "\n",
    "# # !scp ../2_pipeline/tnic_industry.pkl tnic_industry.py $WRDS:~\n",
    "\n",
    "# ### Download updated __*tnic_industry*__ file from WRDS\n",
    "\n",
    "# # !scp $WRDS:/scratch/ou/hohn/tnic_ind_update.pkl ../2_pipeline/ "
   ]
  },
  {
   "cell_type": "code",
   "execution_count": 2,
   "metadata": {},
   "outputs": [],
   "source": [
    "tnic_industry = pd.read_pickle('../2_pipeline/tnic_ind_update.pkl')"
   ]
  },
  {
   "cell_type": "code",
   "execution_count": 3,
   "metadata": {},
   "outputs": [],
   "source": [
    "tnic_10 = tnic_industry.groupby(level=['gvkey1', 'year'])[\"score_0\"].nlargest(10).reset_index(level=[0,1], drop=True).to_frame()"
   ]
  },
  {
   "cell_type": "markdown",
   "metadata": {},
   "source": [
    "Redefine _tnic_industry_ as below to subset to 10-closest competitors."
   ]
  },
  {
   "cell_type": "code",
   "execution_count": 4,
   "metadata": {},
   "outputs": [],
   "source": [
    "tnic_industry = tnic_10.join(tnic_industry[['score_1','score_2']])"
   ]
  },
  {
   "cell_type": "markdown",
   "metadata": {},
   "source": [
    "Average TNIC similarity score across closest competitors.  \n",
    "Remeber that in __TNIC_ALL__ most of the scores equals to zero. The _z\\__ might be the more suitable.\n",
    "- Close pair in t0 not appearing in t1 or t2 is meaningful.\n",
    "- __BE CAREFUL__ of year 2016 and 2017. __TNIC is available only up to 2017__."
   ]
  },
  {
   "cell_type": "code",
   "execution_count": 5,
   "metadata": {},
   "outputs": [],
   "source": [
    "avg_sim = tnic_industry.groupby(level=['gvkey1','year']).mean()\n",
    "avg_sim = avg_sim.join(tnic_industry.groupby(level=['gvkey1','year']).count().add_prefix(\"n_\"))\n",
    "avg_sim = avg_sim.join(tnic_industry.fillna(0).groupby(level=['gvkey1','year']).mean().add_prefix(\"z_\"))"
   ]
  },
  {
   "cell_type": "markdown",
   "metadata": {},
   "source": [
    "Calculate _avg_sim_ of competitors"
   ]
  },
  {
   "cell_type": "code",
   "execution_count": 6,
   "metadata": {},
   "outputs": [],
   "source": [
    "ind_avg = tnic_industry.join(avg_sim.reset_index().rename(columns={'gvkey1':'gvkey2'}).set_index(['gvkey2', 'year']), \n",
    "                   on=['gvkey2', 'year'], how='left', rsuffix='_a').groupby(level=['gvkey1','year']).mean()\n",
    "ind_avg = ind_avg[['score_0_a', 'score_1_a', 'score_2_a', 'z_score_0', 'z_score_1', 'z_score_2']]\n",
    "ind_avg.rename(columns={'score_0_a':'s_0_a', \n",
    "                        'score_1_a':'s_1_a',\n",
    "                        'score_2_a':'s_2_a',\n",
    "                        'z_score_0':'z_0_a', \n",
    "                        'z_score_1':'z_1_a',\n",
    "                        'z_score_2':'z_2_a'}, inplace=True)"
   ]
  },
  {
   "cell_type": "code",
   "execution_count": 7,
   "metadata": {},
   "outputs": [],
   "source": [
    "avg_sim = avg_sim.join(ind_avg)"
   ]
  },
  {
   "cell_type": "markdown",
   "metadata": {},
   "source": [
    "Total observation in _avg_sim_ and those with 20 competitors in t0"
   ]
  },
  {
   "cell_type": "code",
   "execution_count": 8,
   "metadata": {},
   "outputs": [
    {
     "name": "stdout",
     "output_type": "stream",
     "text": [
      "109791 84794\n"
     ]
    }
   ],
   "source": [
    "print(len(avg_sim), len(avg_sim[avg_sim['n_score_0']==10]))"
   ]
  },
  {
   "cell_type": "code",
   "execution_count": 9,
   "metadata": {},
   "outputs": [
    {
     "data": {
      "text/html": [
       "<div>\n",
       "<style scoped>\n",
       "    .dataframe tbody tr th:only-of-type {\n",
       "        vertical-align: middle;\n",
       "    }\n",
       "\n",
       "    .dataframe tbody tr th {\n",
       "        vertical-align: top;\n",
       "    }\n",
       "\n",
       "    .dataframe thead th {\n",
       "        text-align: right;\n",
       "    }\n",
       "</style>\n",
       "<table border=\"1\" class=\"dataframe\">\n",
       "  <thead>\n",
       "    <tr style=\"text-align: right;\">\n",
       "      <th></th>\n",
       "      <th></th>\n",
       "      <th>score_0</th>\n",
       "      <th>score_1</th>\n",
       "      <th>score_2</th>\n",
       "      <th>n_score_0</th>\n",
       "      <th>n_score_1</th>\n",
       "      <th>n_score_2</th>\n",
       "      <th>z_score_0</th>\n",
       "      <th>z_score_1</th>\n",
       "      <th>z_score_2</th>\n",
       "      <th>s_0_a</th>\n",
       "      <th>s_1_a</th>\n",
       "      <th>s_2_a</th>\n",
       "      <th>z_0_a</th>\n",
       "      <th>z_1_a</th>\n",
       "      <th>z_2_a</th>\n",
       "    </tr>\n",
       "    <tr>\n",
       "      <th>gvkey1</th>\n",
       "      <th>year</th>\n",
       "      <th></th>\n",
       "      <th></th>\n",
       "      <th></th>\n",
       "      <th></th>\n",
       "      <th></th>\n",
       "      <th></th>\n",
       "      <th></th>\n",
       "      <th></th>\n",
       "      <th></th>\n",
       "      <th></th>\n",
       "      <th></th>\n",
       "      <th></th>\n",
       "      <th></th>\n",
       "      <th></th>\n",
       "      <th></th>\n",
       "    </tr>\n",
       "  </thead>\n",
       "  <tbody>\n",
       "    <tr>\n",
       "      <th rowspan=\"5\" valign=\"top\">1004</th>\n",
       "      <th>1995</th>\n",
       "      <td>0.00580</td>\n",
       "      <td>0.123100</td>\n",
       "      <td>0.069600</td>\n",
       "      <td>1</td>\n",
       "      <td>1</td>\n",
       "      <td>1</td>\n",
       "      <td>0.00580</td>\n",
       "      <td>0.12310</td>\n",
       "      <td>0.06960</td>\n",
       "      <td>NaN</td>\n",
       "      <td>NaN</td>\n",
       "      <td>NaN</td>\n",
       "      <td>NaN</td>\n",
       "      <td>NaN</td>\n",
       "      <td>NaN</td>\n",
       "    </tr>\n",
       "    <tr>\n",
       "      <th>1996</th>\n",
       "      <td>0.02083</td>\n",
       "      <td>0.043288</td>\n",
       "      <td>0.048657</td>\n",
       "      <td>10</td>\n",
       "      <td>8</td>\n",
       "      <td>7</td>\n",
       "      <td>0.02083</td>\n",
       "      <td>0.03463</td>\n",
       "      <td>0.03406</td>\n",
       "      <td>0.046411</td>\n",
       "      <td>0.050805</td>\n",
       "      <td>0.047070</td>\n",
       "      <td>0.046411</td>\n",
       "      <td>0.036585</td>\n",
       "      <td>0.027966</td>\n",
       "    </tr>\n",
       "    <tr>\n",
       "      <th>1997</th>\n",
       "      <td>0.04576</td>\n",
       "      <td>0.027556</td>\n",
       "      <td>0.037771</td>\n",
       "      <td>10</td>\n",
       "      <td>9</td>\n",
       "      <td>7</td>\n",
       "      <td>0.04576</td>\n",
       "      <td>0.02480</td>\n",
       "      <td>0.02644</td>\n",
       "      <td>0.050885</td>\n",
       "      <td>0.062084</td>\n",
       "      <td>0.057949</td>\n",
       "      <td>0.050885</td>\n",
       "      <td>0.056042</td>\n",
       "      <td>0.035902</td>\n",
       "    </tr>\n",
       "    <tr>\n",
       "      <th>1998</th>\n",
       "      <td>0.02231</td>\n",
       "      <td>0.026100</td>\n",
       "      <td>0.042560</td>\n",
       "      <td>10</td>\n",
       "      <td>6</td>\n",
       "      <td>5</td>\n",
       "      <td>0.02231</td>\n",
       "      <td>0.01566</td>\n",
       "      <td>0.02128</td>\n",
       "      <td>0.034312</td>\n",
       "      <td>0.043136</td>\n",
       "      <td>0.050472</td>\n",
       "      <td>0.034312</td>\n",
       "      <td>0.020987</td>\n",
       "      <td>0.012926</td>\n",
       "    </tr>\n",
       "    <tr>\n",
       "      <th>1999</th>\n",
       "      <td>0.03026</td>\n",
       "      <td>0.032500</td>\n",
       "      <td>0.047910</td>\n",
       "      <td>10</td>\n",
       "      <td>10</td>\n",
       "      <td>10</td>\n",
       "      <td>0.03026</td>\n",
       "      <td>0.03250</td>\n",
       "      <td>0.04791</td>\n",
       "      <td>0.041202</td>\n",
       "      <td>0.053419</td>\n",
       "      <td>0.051189</td>\n",
       "      <td>0.041202</td>\n",
       "      <td>0.041825</td>\n",
       "      <td>0.036488</td>\n",
       "    </tr>\n",
       "  </tbody>\n",
       "</table>\n",
       "</div>"
      ],
      "text/plain": [
       "             score_0   score_1   score_2  n_score_0  n_score_1  n_score_2  \\\n",
       "gvkey1 year                                                                 \n",
       "1004   1995  0.00580  0.123100  0.069600          1          1          1   \n",
       "       1996  0.02083  0.043288  0.048657         10          8          7   \n",
       "       1997  0.04576  0.027556  0.037771         10          9          7   \n",
       "       1998  0.02231  0.026100  0.042560         10          6          5   \n",
       "       1999  0.03026  0.032500  0.047910         10         10         10   \n",
       "\n",
       "             z_score_0  z_score_1  z_score_2     s_0_a     s_1_a     s_2_a  \\\n",
       "gvkey1 year                                                                  \n",
       "1004   1995    0.00580    0.12310    0.06960       NaN       NaN       NaN   \n",
       "       1996    0.02083    0.03463    0.03406  0.046411  0.050805  0.047070   \n",
       "       1997    0.04576    0.02480    0.02644  0.050885  0.062084  0.057949   \n",
       "       1998    0.02231    0.01566    0.02128  0.034312  0.043136  0.050472   \n",
       "       1999    0.03026    0.03250    0.04791  0.041202  0.053419  0.051189   \n",
       "\n",
       "                z_0_a     z_1_a     z_2_a  \n",
       "gvkey1 year                                \n",
       "1004   1995       NaN       NaN       NaN  \n",
       "       1996  0.046411  0.036585  0.027966  \n",
       "       1997  0.050885  0.056042  0.035902  \n",
       "       1998  0.034312  0.020987  0.012926  \n",
       "       1999  0.041202  0.041825  0.036488  "
      ]
     },
     "execution_count": 9,
     "metadata": {},
     "output_type": "execute_result"
    }
   ],
   "source": [
    "avg_sim.head()"
   ]
  },
  {
   "cell_type": "markdown",
   "metadata": {},
   "source": [
    "### Grab COMPUSTAT _datadate_"
   ]
  },
  {
   "cell_type": "markdown",
   "metadata": {},
   "source": [
    "Revise here if _avg\\_sim_ needs additional COMPUSTAT variables"
   ]
  },
  {
   "cell_type": "code",
   "execution_count": 10,
   "metadata": {},
   "outputs": [
    {
     "name": "stdin",
     "output_type": "stream",
     "text": [
      "Enter your WRDS username [ohn0000]: hohn\n",
      "Enter your password: ········\n"
     ]
    },
    {
     "name": "stdout",
     "output_type": "stream",
     "text": [
      "WRDS recommends setting up a .pgpass file.\n",
      "You can find more info here:\n",
      "https://www.postgresql.org/docs/9.5/static/libpq-pgpass.html.\n",
      "Loading library list...\n",
      "Done\n"
     ]
    }
   ],
   "source": [
    "db = wrds.Connection()"
   ]
  },
  {
   "cell_type": "code",
   "execution_count": 11,
   "metadata": {},
   "outputs": [],
   "source": [
    "comp_query = \"\"\"\n",
    "select distinct gvkey, datadate, fyear, indfmt, sale\n",
    "from comp.funda\n",
    "where consol = %(consol)s and indfmt in %(indfmt)s \n",
    "    and datafmt = %(datafmt)s and popsrc = %(popsrc)s\n",
    "    and curcd in %(curcd)s\n",
    "order by gvkey, fyear\n",
    "\"\"\"\n",
    "\n",
    "parm = {'consol':('C'), 'indfmt' : ('INDL', 'FS'), 'datafmt': ('STD'), 'popsrc' : ('D'), 'curcd' : ('USD', 'CAD')}\n",
    "comp = db.raw_sql(comp_query, date_cols=['datadate'], params=parm)"
   ]
  },
  {
   "cell_type": "code",
   "execution_count": 12,
   "metadata": {},
   "outputs": [],
   "source": [
    "comp['fyear'] = comp['fyear'].astype('int16')\n",
    "comp['year'] = comp['datadate'].dt.year.astype('int16')\n",
    "\n",
    "comp['gvkey1'] = pd.to_numeric(comp['gvkey']).astype('int64')\n",
    "comp.drop(columns='gvkey', inplace=True)\n",
    "\n",
    "comp.set_index(['gvkey1', 'fyear'], inplace=True)"
   ]
  },
  {
   "cell_type": "markdown",
   "metadata": {},
   "source": [
    "Not sure how TNIC deals fiscal years where fyear are differenct but\n",
    "year are the same. Assume the lastest datadate within _year_"
   ]
  },
  {
   "cell_type": "code",
   "execution_count": 13,
   "metadata": {},
   "outputs": [],
   "source": [
    "datadate = comp[~comp.index.duplicated(keep='last')][['datadate', 'year']].reset_index()"
   ]
  },
  {
   "cell_type": "code",
   "execution_count": 14,
   "metadata": {},
   "outputs": [],
   "source": [
    "avg_sim = pd.merge(avg_sim, datadate, \n",
    "                 left_index=True, \n",
    "                 right_on=['gvkey1', 'year'], how='left').drop_duplicates(['gvkey1', 'year'], keep='last')"
   ]
  },
  {
   "cell_type": "code",
   "execution_count": 15,
   "metadata": {},
   "outputs": [],
   "source": [
    "avg_sim = avg_sim[avg_sim['datadate'].notnull()]"
   ]
  },
  {
   "cell_type": "markdown",
   "metadata": {},
   "source": [
    "TNIC data not missing _datadate_"
   ]
  },
  {
   "cell_type": "code",
   "execution_count": 16,
   "metadata": {},
   "outputs": [
    {
     "data": {
      "text/plain": [
       "62596"
      ]
     },
     "execution_count": 16,
     "metadata": {},
     "output_type": "execute_result"
    }
   ],
   "source": [
    "len(avg_sim[lambda x : (x['fyear']>=2000)&(x['fyear']<=2017)&(x['n_score_0']==10)])"
   ]
  },
  {
   "cell_type": "code",
   "execution_count": 17,
   "metadata": {},
   "outputs": [],
   "source": [
    "col = list(avg_sim)\n",
    "col = col[-4:] + col[:-4]\n",
    "avg_sim = avg_sim[col].sort_values(['gvkey1', 'year', 'datadate'])"
   ]
  },
  {
   "cell_type": "code",
   "execution_count": 18,
   "metadata": {},
   "outputs": [
    {
     "data": {
      "text/html": [
       "<div>\n",
       "<style scoped>\n",
       "    .dataframe tbody tr th:only-of-type {\n",
       "        vertical-align: middle;\n",
       "    }\n",
       "\n",
       "    .dataframe tbody tr th {\n",
       "        vertical-align: top;\n",
       "    }\n",
       "\n",
       "    .dataframe thead th {\n",
       "        text-align: right;\n",
       "    }\n",
       "</style>\n",
       "<table border=\"1\" class=\"dataframe\">\n",
       "  <thead>\n",
       "    <tr style=\"text-align: right;\">\n",
       "      <th></th>\n",
       "      <th>gvkey1</th>\n",
       "      <th>fyear</th>\n",
       "      <th>datadate</th>\n",
       "      <th>year</th>\n",
       "      <th>score_0</th>\n",
       "      <th>score_1</th>\n",
       "      <th>score_2</th>\n",
       "      <th>n_score_0</th>\n",
       "      <th>n_score_1</th>\n",
       "      <th>n_score_2</th>\n",
       "      <th>z_score_0</th>\n",
       "      <th>z_score_1</th>\n",
       "      <th>z_score_2</th>\n",
       "      <th>s_0_a</th>\n",
       "      <th>s_1_a</th>\n",
       "      <th>s_2_a</th>\n",
       "      <th>z_0_a</th>\n",
       "      <th>z_1_a</th>\n",
       "      <th>z_2_a</th>\n",
       "    </tr>\n",
       "  </thead>\n",
       "  <tbody>\n",
       "    <tr>\n",
       "      <th>77</th>\n",
       "      <td>1004</td>\n",
       "      <td>1994.0</td>\n",
       "      <td>1995-05-31</td>\n",
       "      <td>1995</td>\n",
       "      <td>0.00580</td>\n",
       "      <td>0.123100</td>\n",
       "      <td>0.069600</td>\n",
       "      <td>1</td>\n",
       "      <td>1</td>\n",
       "      <td>1</td>\n",
       "      <td>0.00580</td>\n",
       "      <td>0.12310</td>\n",
       "      <td>0.06960</td>\n",
       "      <td>NaN</td>\n",
       "      <td>NaN</td>\n",
       "      <td>NaN</td>\n",
       "      <td>NaN</td>\n",
       "      <td>NaN</td>\n",
       "      <td>NaN</td>\n",
       "    </tr>\n",
       "    <tr>\n",
       "      <th>78</th>\n",
       "      <td>1004</td>\n",
       "      <td>1995.0</td>\n",
       "      <td>1996-05-31</td>\n",
       "      <td>1996</td>\n",
       "      <td>0.02083</td>\n",
       "      <td>0.043288</td>\n",
       "      <td>0.048657</td>\n",
       "      <td>10</td>\n",
       "      <td>8</td>\n",
       "      <td>7</td>\n",
       "      <td>0.02083</td>\n",
       "      <td>0.03463</td>\n",
       "      <td>0.03406</td>\n",
       "      <td>0.046411</td>\n",
       "      <td>0.050805</td>\n",
       "      <td>0.047070</td>\n",
       "      <td>0.046411</td>\n",
       "      <td>0.036585</td>\n",
       "      <td>0.027966</td>\n",
       "    </tr>\n",
       "    <tr>\n",
       "      <th>79</th>\n",
       "      <td>1004</td>\n",
       "      <td>1996.0</td>\n",
       "      <td>1997-05-31</td>\n",
       "      <td>1997</td>\n",
       "      <td>0.04576</td>\n",
       "      <td>0.027556</td>\n",
       "      <td>0.037771</td>\n",
       "      <td>10</td>\n",
       "      <td>9</td>\n",
       "      <td>7</td>\n",
       "      <td>0.04576</td>\n",
       "      <td>0.02480</td>\n",
       "      <td>0.02644</td>\n",
       "      <td>0.050885</td>\n",
       "      <td>0.062084</td>\n",
       "      <td>0.057949</td>\n",
       "      <td>0.050885</td>\n",
       "      <td>0.056042</td>\n",
       "      <td>0.035902</td>\n",
       "    </tr>\n",
       "    <tr>\n",
       "      <th>80</th>\n",
       "      <td>1004</td>\n",
       "      <td>1997.0</td>\n",
       "      <td>1998-05-31</td>\n",
       "      <td>1998</td>\n",
       "      <td>0.02231</td>\n",
       "      <td>0.026100</td>\n",
       "      <td>0.042560</td>\n",
       "      <td>10</td>\n",
       "      <td>6</td>\n",
       "      <td>5</td>\n",
       "      <td>0.02231</td>\n",
       "      <td>0.01566</td>\n",
       "      <td>0.02128</td>\n",
       "      <td>0.034312</td>\n",
       "      <td>0.043136</td>\n",
       "      <td>0.050472</td>\n",
       "      <td>0.034312</td>\n",
       "      <td>0.020987</td>\n",
       "      <td>0.012926</td>\n",
       "    </tr>\n",
       "    <tr>\n",
       "      <th>81</th>\n",
       "      <td>1004</td>\n",
       "      <td>1998.0</td>\n",
       "      <td>1999-05-31</td>\n",
       "      <td>1999</td>\n",
       "      <td>0.03026</td>\n",
       "      <td>0.032500</td>\n",
       "      <td>0.047910</td>\n",
       "      <td>10</td>\n",
       "      <td>10</td>\n",
       "      <td>10</td>\n",
       "      <td>0.03026</td>\n",
       "      <td>0.03250</td>\n",
       "      <td>0.04791</td>\n",
       "      <td>0.041202</td>\n",
       "      <td>0.053419</td>\n",
       "      <td>0.051189</td>\n",
       "      <td>0.041202</td>\n",
       "      <td>0.041825</td>\n",
       "      <td>0.036488</td>\n",
       "    </tr>\n",
       "  </tbody>\n",
       "</table>\n",
       "</div>"
      ],
      "text/plain": [
       "    gvkey1   fyear   datadate  year  score_0   score_1   score_2  n_score_0  \\\n",
       "77    1004  1994.0 1995-05-31  1995  0.00580  0.123100  0.069600          1   \n",
       "78    1004  1995.0 1996-05-31  1996  0.02083  0.043288  0.048657         10   \n",
       "79    1004  1996.0 1997-05-31  1997  0.04576  0.027556  0.037771         10   \n",
       "80    1004  1997.0 1998-05-31  1998  0.02231  0.026100  0.042560         10   \n",
       "81    1004  1998.0 1999-05-31  1999  0.03026  0.032500  0.047910         10   \n",
       "\n",
       "    n_score_1  n_score_2  z_score_0  z_score_1  z_score_2     s_0_a     s_1_a  \\\n",
       "77          1          1    0.00580    0.12310    0.06960       NaN       NaN   \n",
       "78          8          7    0.02083    0.03463    0.03406  0.046411  0.050805   \n",
       "79          9          7    0.04576    0.02480    0.02644  0.050885  0.062084   \n",
       "80          6          5    0.02231    0.01566    0.02128  0.034312  0.043136   \n",
       "81         10         10    0.03026    0.03250    0.04791  0.041202  0.053419   \n",
       "\n",
       "       s_2_a     z_0_a     z_1_a     z_2_a  \n",
       "77       NaN       NaN       NaN       NaN  \n",
       "78  0.047070  0.046411  0.036585  0.027966  \n",
       "79  0.057949  0.050885  0.056042  0.035902  \n",
       "80  0.050472  0.034312  0.020987  0.012926  \n",
       "81  0.051189  0.041202  0.041825  0.036488  "
      ]
     },
     "execution_count": 18,
     "metadata": {},
     "output_type": "execute_result"
    }
   ],
   "source": [
    "avg_sim.head()"
   ]
  },
  {
   "cell_type": "markdown",
   "metadata": {},
   "source": [
    "### Grab _permno_"
   ]
  },
  {
   "cell_type": "markdown",
   "metadata": {},
   "source": [
    "Revise here if _avg\\_sim_ needs additional CRSP variables"
   ]
  },
  {
   "cell_type": "code",
   "execution_count": 19,
   "metadata": {},
   "outputs": [],
   "source": [
    "sql_query= \"\"\"\n",
    "select gvkey, liid as iid, lpermno as permno, linkdt, linkenddt\n",
    "from crsp.ccmxpf_linktable\n",
    "where linktype in %(type)s and linkprim in %(prim)s and usedflag = 1\n",
    "\"\"\"\n",
    "\n",
    "parm = {'type':('LU', 'LC'), 'prim':('P', 'C')}\n",
    "linktable = db.raw_sql(sql_query, date_cols=['linkdt', 'linkenddt'], params=parm)\n",
    "\n",
    "linktable['gvkey'] = pd.to_numeric(linktable['gvkey'])\n",
    "linktable['permno'] = pd.to_numeric(linktable['permno']).astype('int64')\n",
    "linktable['iid'] = linktable['iid'].astype('category')"
   ]
  },
  {
   "cell_type": "code",
   "execution_count": 20,
   "metadata": {},
   "outputs": [],
   "source": [
    "enddt = pd.to_datetime('2020-01-07 00:00:00')"
   ]
  },
  {
   "cell_type": "code",
   "execution_count": 21,
   "metadata": {},
   "outputs": [],
   "source": [
    "linktable['linkenddt'] = linktable['linkenddt'].fillna(value = enddt)\n",
    "linktable['linkenddt'] = linktable['linkenddt'].dt.date"
   ]
  },
  {
   "cell_type": "code",
   "execution_count": 22,
   "metadata": {},
   "outputs": [],
   "source": [
    "conn = sqlite3.connect(':memory:')\n",
    "avg_sim.to_sql('avg_sim', conn, index=False)\n",
    "linktable.to_sql('linktable', conn, index=False)\n",
    "\n",
    "qry = '''\n",
    "    select  \n",
    "        avg_sim.*, linktable.permno\n",
    "    from\n",
    "        avg_sim left join linktable on\n",
    "        avg_sim.datadate between linkdt and linkenddt and avg_sim.gvkey1 = linktable.gvkey\n",
    "    '''\n",
    "df = pd.read_sql_query(qry, conn)\n",
    "df['permno'] = df['permno'].astype('Int64')\n",
    "df['datadate'] = df['datadate'].astype('datetime64[ns]')\n",
    "\n",
    "df[df['permno'].isna()].to_sql('df', conn, index=False)\n",
    "\n",
    "qry = '''\n",
    "    select\n",
    "        a.*, b.gvkey1, b.datadate\n",
    "        from linktable a join df b\n",
    "        on \n",
    "            a.gvkey = b.gvkey1\n",
    "'''\n",
    "aug = pd.read_sql_query(qry, conn)\n",
    "\n",
    "aug.to_sql('aug', conn, index=False)\n",
    "qry = '''\n",
    "    select gvkey1, permno, iid, min(linkdt) as linkdt, max(linkenddt) as linkenddt\n",
    "    from aug\n",
    "    group by gvkey1, permno, iid\n",
    "    order by gvkey1, linkdt\n",
    "'''\n",
    "\n",
    "df = df.merge(aug[aug['iid'].isin(['01','02'])].rename(columns={'permno':'permno1'})[['gvkey1', 'permno1']], \n",
    "         left_on = ['gvkey1'], right_on=['gvkey1'], how='left')\n",
    "df['permno'] = np.where(df['permno'].isna(), df['permno1'], df['permno'])"
   ]
  },
  {
   "cell_type": "code",
   "execution_count": 23,
   "metadata": {},
   "outputs": [],
   "source": [
    "df = df.drop_duplicates(['gvkey1', 'year']).drop(columns='permno1')"
   ]
  },
  {
   "cell_type": "code",
   "execution_count": 24,
   "metadata": {},
   "outputs": [],
   "source": [
    "col = list(df)\n",
    "col.insert(2, col.pop(col.index('permno')))\n",
    "df = df[col]"
   ]
  },
  {
   "cell_type": "code",
   "execution_count": 25,
   "metadata": {},
   "outputs": [
    {
     "data": {
      "text/html": [
       "<div>\n",
       "<style scoped>\n",
       "    .dataframe tbody tr th:only-of-type {\n",
       "        vertical-align: middle;\n",
       "    }\n",
       "\n",
       "    .dataframe tbody tr th {\n",
       "        vertical-align: top;\n",
       "    }\n",
       "\n",
       "    .dataframe thead th {\n",
       "        text-align: right;\n",
       "    }\n",
       "</style>\n",
       "<table border=\"1\" class=\"dataframe\">\n",
       "  <thead>\n",
       "    <tr style=\"text-align: right;\">\n",
       "      <th></th>\n",
       "      <th>gvkey1</th>\n",
       "      <th>fyear</th>\n",
       "      <th>permno</th>\n",
       "      <th>datadate</th>\n",
       "      <th>year</th>\n",
       "      <th>score_0</th>\n",
       "      <th>score_1</th>\n",
       "      <th>score_2</th>\n",
       "      <th>n_score_0</th>\n",
       "      <th>n_score_1</th>\n",
       "      <th>n_score_2</th>\n",
       "      <th>z_score_0</th>\n",
       "      <th>z_score_1</th>\n",
       "      <th>z_score_2</th>\n",
       "      <th>s_0_a</th>\n",
       "      <th>s_1_a</th>\n",
       "      <th>s_2_a</th>\n",
       "      <th>z_0_a</th>\n",
       "      <th>z_1_a</th>\n",
       "      <th>z_2_a</th>\n",
       "    </tr>\n",
       "  </thead>\n",
       "  <tbody>\n",
       "    <tr>\n",
       "      <th>0</th>\n",
       "      <td>1004</td>\n",
       "      <td>1994.0</td>\n",
       "      <td>54594</td>\n",
       "      <td>1995-05-31</td>\n",
       "      <td>1995</td>\n",
       "      <td>0.00580</td>\n",
       "      <td>0.123100</td>\n",
       "      <td>0.069600</td>\n",
       "      <td>1</td>\n",
       "      <td>1</td>\n",
       "      <td>1</td>\n",
       "      <td>0.00580</td>\n",
       "      <td>0.12310</td>\n",
       "      <td>0.06960</td>\n",
       "      <td>NaN</td>\n",
       "      <td>NaN</td>\n",
       "      <td>NaN</td>\n",
       "      <td>NaN</td>\n",
       "      <td>NaN</td>\n",
       "      <td>NaN</td>\n",
       "    </tr>\n",
       "    <tr>\n",
       "      <th>1</th>\n",
       "      <td>1004</td>\n",
       "      <td>1995.0</td>\n",
       "      <td>54594</td>\n",
       "      <td>1996-05-31</td>\n",
       "      <td>1996</td>\n",
       "      <td>0.02083</td>\n",
       "      <td>0.043288</td>\n",
       "      <td>0.048657</td>\n",
       "      <td>10</td>\n",
       "      <td>8</td>\n",
       "      <td>7</td>\n",
       "      <td>0.02083</td>\n",
       "      <td>0.03463</td>\n",
       "      <td>0.03406</td>\n",
       "      <td>0.046411</td>\n",
       "      <td>0.050805</td>\n",
       "      <td>0.047070</td>\n",
       "      <td>0.046411</td>\n",
       "      <td>0.036585</td>\n",
       "      <td>0.027966</td>\n",
       "    </tr>\n",
       "    <tr>\n",
       "      <th>2</th>\n",
       "      <td>1004</td>\n",
       "      <td>1996.0</td>\n",
       "      <td>54594</td>\n",
       "      <td>1997-05-31</td>\n",
       "      <td>1997</td>\n",
       "      <td>0.04576</td>\n",
       "      <td>0.027556</td>\n",
       "      <td>0.037771</td>\n",
       "      <td>10</td>\n",
       "      <td>9</td>\n",
       "      <td>7</td>\n",
       "      <td>0.04576</td>\n",
       "      <td>0.02480</td>\n",
       "      <td>0.02644</td>\n",
       "      <td>0.050885</td>\n",
       "      <td>0.062084</td>\n",
       "      <td>0.057949</td>\n",
       "      <td>0.050885</td>\n",
       "      <td>0.056042</td>\n",
       "      <td>0.035902</td>\n",
       "    </tr>\n",
       "    <tr>\n",
       "      <th>3</th>\n",
       "      <td>1004</td>\n",
       "      <td>1997.0</td>\n",
       "      <td>54594</td>\n",
       "      <td>1998-05-31</td>\n",
       "      <td>1998</td>\n",
       "      <td>0.02231</td>\n",
       "      <td>0.026100</td>\n",
       "      <td>0.042560</td>\n",
       "      <td>10</td>\n",
       "      <td>6</td>\n",
       "      <td>5</td>\n",
       "      <td>0.02231</td>\n",
       "      <td>0.01566</td>\n",
       "      <td>0.02128</td>\n",
       "      <td>0.034312</td>\n",
       "      <td>0.043136</td>\n",
       "      <td>0.050472</td>\n",
       "      <td>0.034312</td>\n",
       "      <td>0.020987</td>\n",
       "      <td>0.012926</td>\n",
       "    </tr>\n",
       "    <tr>\n",
       "      <th>4</th>\n",
       "      <td>1004</td>\n",
       "      <td>1998.0</td>\n",
       "      <td>54594</td>\n",
       "      <td>1999-05-31</td>\n",
       "      <td>1999</td>\n",
       "      <td>0.03026</td>\n",
       "      <td>0.032500</td>\n",
       "      <td>0.047910</td>\n",
       "      <td>10</td>\n",
       "      <td>10</td>\n",
       "      <td>10</td>\n",
       "      <td>0.03026</td>\n",
       "      <td>0.03250</td>\n",
       "      <td>0.04791</td>\n",
       "      <td>0.041202</td>\n",
       "      <td>0.053419</td>\n",
       "      <td>0.051189</td>\n",
       "      <td>0.041202</td>\n",
       "      <td>0.041825</td>\n",
       "      <td>0.036488</td>\n",
       "    </tr>\n",
       "  </tbody>\n",
       "</table>\n",
       "</div>"
      ],
      "text/plain": [
       "   gvkey1   fyear permno   datadate  year  score_0   score_1   score_2  \\\n",
       "0    1004  1994.0  54594 1995-05-31  1995  0.00580  0.123100  0.069600   \n",
       "1    1004  1995.0  54594 1996-05-31  1996  0.02083  0.043288  0.048657   \n",
       "2    1004  1996.0  54594 1997-05-31  1997  0.04576  0.027556  0.037771   \n",
       "3    1004  1997.0  54594 1998-05-31  1998  0.02231  0.026100  0.042560   \n",
       "4    1004  1998.0  54594 1999-05-31  1999  0.03026  0.032500  0.047910   \n",
       "\n",
       "   n_score_0  n_score_1  n_score_2  z_score_0  z_score_1  z_score_2     s_0_a  \\\n",
       "0          1          1          1    0.00580    0.12310    0.06960       NaN   \n",
       "1         10          8          7    0.02083    0.03463    0.03406  0.046411   \n",
       "2         10          9          7    0.04576    0.02480    0.02644  0.050885   \n",
       "3         10          6          5    0.02231    0.01566    0.02128  0.034312   \n",
       "4         10         10         10    0.03026    0.03250    0.04791  0.041202   \n",
       "\n",
       "      s_1_a     s_2_a     z_0_a     z_1_a     z_2_a  \n",
       "0       NaN       NaN       NaN       NaN       NaN  \n",
       "1  0.050805  0.047070  0.046411  0.036585  0.027966  \n",
       "2  0.062084  0.057949  0.050885  0.056042  0.035902  \n",
       "3  0.043136  0.050472  0.034312  0.020987  0.012926  \n",
       "4  0.053419  0.051189  0.041202  0.041825  0.036488  "
      ]
     },
     "execution_count": 25,
     "metadata": {},
     "output_type": "execute_result"
    }
   ],
   "source": [
    "df.head()"
   ]
  },
  {
   "cell_type": "code",
   "execution_count": 26,
   "metadata": {},
   "outputs": [],
   "source": [
    "df['dt_s1'] = np.where(df['year'] == 2017, np.NaN, df['score_1'] - df['score_0'])\n",
    "df['dt_s2'] = np.where(df['year'] >= 2016, np.NaN, df['score_2'] - df['score_1'])\n",
    "df['dt_z1'] = np.where(df['year'] == 2017, np.NaN, df['z_score_1'] - df['z_score_0'])\n",
    "df['dt_z2'] = np.where(df['year'] >= 2016, np.NaN, df['z_score_2'] - df['z_score_1'])\n",
    "df['dt_s1a'] = np.where(df['year'] == 2017, np.NaN, (df['score_1'] - df['score_0'])\n",
    "                        - (df['s_1_a'] - df['s_0_a']))\n",
    "df['dt_s2a'] = np.where(df['year'] >= 2016, np.NaN, (df['score_2'] - df['score_1'])\n",
    "                        - (df['s_2_a'] - df['s_1_a']))\n",
    "df['dt_z1a'] = np.where(df['year'] == 2017, np.NaN, (df['z_score_1'] - df['z_score_0'])\n",
    "                        - (df['z_1_a'] - df['z_0_a']))\n",
    "df['dt_z2a'] = np.where(df['year'] >= 2016, np.NaN, (df['z_score_2'] - df['z_score_1'])\n",
    "                        - (df['z_2_a'] - df['z_1_a']))"
   ]
  },
  {
   "cell_type": "code",
   "execution_count": 27,
   "metadata": {},
   "outputs": [],
   "source": [
    "df.set_index(['gvkey1', 'year'], inplace=True)"
   ]
  },
  {
   "cell_type": "code",
   "execution_count": 28,
   "metadata": {},
   "outputs": [],
   "source": [
    "dt_sim = df.rename(columns={'n_score_0':'n0',\n",
    "                            'n_score_1':'n1',\n",
    "                            'n_score_2':'n2'})[['fyear','permno','datadate',\n",
    "                                                'n0','n1','n2',\n",
    "                                                'dt_s1','dt_s2','dt_z1','dt_z2',\n",
    "                                                'dt_s1a','dt_s2a','dt_z1a','dt_z2a']]"
   ]
  },
  {
   "cell_type": "markdown",
   "metadata": {},
   "source": [
    "Number of observations with non-missig _dt avg_sim_ and adjusted _dt avg_sim_ in t1 & t2"
   ]
  },
  {
   "cell_type": "code",
   "execution_count": 45,
   "metadata": {},
   "outputs": [],
   "source": [
    "dt_sim.to_csv('../2_pipeline/get_these.csv')"
   ]
  },
  {
   "cell_type": "markdown",
   "metadata": {},
   "source": [
    "## Control"
   ]
  },
  {
   "cell_type": "markdown",
   "metadata": {},
   "source": [
    "_IBES_\n",
    "- Change in number of analysts\n",
    "\n",
    "_CRSP_\n",
    "- Ret. volatility\n",
    "- MTB\n",
    "\n",
    "_Compustat_\n",
    "- Net asset growth\n",
    "- Income\n",
    "- Assets\n",
    "- Age\n",
    "- R&D\n",
    "- Loss\n",
    "\n",
    "_Ravenpack DJ, PR_\n",
    "- Number of articles\n",
    "\n",
    "Cross-section\n",
    "- M&A result\n",
    "- Differentiation"
   ]
  },
  {
   "cell_type": "markdown",
   "metadata": {},
   "source": [
    "Run _1\\_code/cko.sas_ on WRDS using the following file"
   ]
  },
  {
   "cell_type": "code",
   "execution_count": 46,
   "metadata": {},
   "outputs": [
    {
     "name": "stdout",
     "output_type": "stream",
     "text": [
      "get_these.csv                                 100%   19MB   1.7MB/s   00:11    \n"
     ]
    }
   ],
   "source": [
    "!scp ../2_pipeline/get_these.csv hohn@wrds-cloud.wharton.upenn.edu:/scratch/ou/hohn/"
   ]
  },
  {
   "cell_type": "code",
   "execution_count": 50,
   "metadata": {},
   "outputs": [
    {
     "name": "stdout",
     "output_type": "stream",
     "text": [
      "compcontrol.csv                               100%   10MB   1.4MB/s   00:07    \n"
     ]
    }
   ],
   "source": [
    "!scp hohn@wrds-cloud.wharton.upenn.edu:/scratch/ou/hohn/compcontrol.csv ../0_data/external/compcontrol.csv"
   ]
  },
  {
   "cell_type": "code",
   "execution_count": 51,
   "metadata": {},
   "outputs": [
    {
     "data": {
      "text/html": [
       "<div>\n",
       "<style scoped>\n",
       "    .dataframe tbody tr th:only-of-type {\n",
       "        vertical-align: middle;\n",
       "    }\n",
       "\n",
       "    .dataframe tbody tr th {\n",
       "        vertical-align: top;\n",
       "    }\n",
       "\n",
       "    .dataframe thead th {\n",
       "        text-align: right;\n",
       "    }\n",
       "</style>\n",
       "<table border=\"1\" class=\"dataframe\">\n",
       "  <thead>\n",
       "    <tr style=\"text-align: right;\">\n",
       "      <th></th>\n",
       "      <th></th>\n",
       "      <th>fyear</th>\n",
       "      <th>permno</th>\n",
       "      <th>datadate</th>\n",
       "      <th>n0</th>\n",
       "      <th>n1</th>\n",
       "      <th>n2</th>\n",
       "      <th>dt_s1</th>\n",
       "      <th>dt_s2</th>\n",
       "      <th>dt_z1</th>\n",
       "      <th>dt_z2</th>\n",
       "      <th>dt_s1a</th>\n",
       "      <th>dt_s2a</th>\n",
       "      <th>dt_z1a</th>\n",
       "      <th>dt_z2a</th>\n",
       "    </tr>\n",
       "    <tr>\n",
       "      <th>gvkey1</th>\n",
       "      <th>year</th>\n",
       "      <th></th>\n",
       "      <th></th>\n",
       "      <th></th>\n",
       "      <th></th>\n",
       "      <th></th>\n",
       "      <th></th>\n",
       "      <th></th>\n",
       "      <th></th>\n",
       "      <th></th>\n",
       "      <th></th>\n",
       "      <th></th>\n",
       "      <th></th>\n",
       "      <th></th>\n",
       "      <th></th>\n",
       "    </tr>\n",
       "  </thead>\n",
       "  <tbody>\n",
       "    <tr>\n",
       "      <th rowspan=\"5\" valign=\"top\">1004</th>\n",
       "      <th>1995</th>\n",
       "      <td>1994.0</td>\n",
       "      <td>54594</td>\n",
       "      <td>1995-05-31</td>\n",
       "      <td>1</td>\n",
       "      <td>1</td>\n",
       "      <td>1</td>\n",
       "      <td>0.117300</td>\n",
       "      <td>-0.053500</td>\n",
       "      <td>0.11730</td>\n",
       "      <td>-0.05350</td>\n",
       "      <td>NaN</td>\n",
       "      <td>NaN</td>\n",
       "      <td>NaN</td>\n",
       "      <td>NaN</td>\n",
       "    </tr>\n",
       "    <tr>\n",
       "      <th>1996</th>\n",
       "      <td>1995.0</td>\n",
       "      <td>54594</td>\n",
       "      <td>1996-05-31</td>\n",
       "      <td>10</td>\n",
       "      <td>8</td>\n",
       "      <td>7</td>\n",
       "      <td>0.022458</td>\n",
       "      <td>0.005370</td>\n",
       "      <td>0.01380</td>\n",
       "      <td>-0.00057</td>\n",
       "      <td>0.018063</td>\n",
       "      <td>0.009105</td>\n",
       "      <td>0.023626</td>\n",
       "      <td>0.008049</td>\n",
       "    </tr>\n",
       "    <tr>\n",
       "      <th>1997</th>\n",
       "      <td>1996.0</td>\n",
       "      <td>54594</td>\n",
       "      <td>1997-05-31</td>\n",
       "      <td>10</td>\n",
       "      <td>9</td>\n",
       "      <td>7</td>\n",
       "      <td>-0.018204</td>\n",
       "      <td>0.010216</td>\n",
       "      <td>-0.02096</td>\n",
       "      <td>0.00164</td>\n",
       "      <td>-0.029404</td>\n",
       "      <td>0.014351</td>\n",
       "      <td>-0.026117</td>\n",
       "      <td>0.021779</td>\n",
       "    </tr>\n",
       "    <tr>\n",
       "      <th>1998</th>\n",
       "      <td>1997.0</td>\n",
       "      <td>54594</td>\n",
       "      <td>1998-05-31</td>\n",
       "      <td>10</td>\n",
       "      <td>6</td>\n",
       "      <td>5</td>\n",
       "      <td>0.003790</td>\n",
       "      <td>0.016460</td>\n",
       "      <td>-0.00665</td>\n",
       "      <td>0.00562</td>\n",
       "      <td>-0.005035</td>\n",
       "      <td>0.009124</td>\n",
       "      <td>0.006675</td>\n",
       "      <td>0.013681</td>\n",
       "    </tr>\n",
       "    <tr>\n",
       "      <th>1999</th>\n",
       "      <td>1998.0</td>\n",
       "      <td>54594</td>\n",
       "      <td>1999-05-31</td>\n",
       "      <td>10</td>\n",
       "      <td>10</td>\n",
       "      <td>10</td>\n",
       "      <td>0.002240</td>\n",
       "      <td>0.015410</td>\n",
       "      <td>0.00224</td>\n",
       "      <td>0.01541</td>\n",
       "      <td>-0.009977</td>\n",
       "      <td>0.017640</td>\n",
       "      <td>0.001617</td>\n",
       "      <td>0.020747</td>\n",
       "    </tr>\n",
       "  </tbody>\n",
       "</table>\n",
       "</div>"
      ],
      "text/plain": [
       "              fyear permno   datadate  n0  n1  n2     dt_s1     dt_s2  \\\n",
       "gvkey1 year                                                             \n",
       "1004   1995  1994.0  54594 1995-05-31   1   1   1  0.117300 -0.053500   \n",
       "       1996  1995.0  54594 1996-05-31  10   8   7  0.022458  0.005370   \n",
       "       1997  1996.0  54594 1997-05-31  10   9   7 -0.018204  0.010216   \n",
       "       1998  1997.0  54594 1998-05-31  10   6   5  0.003790  0.016460   \n",
       "       1999  1998.0  54594 1999-05-31  10  10  10  0.002240  0.015410   \n",
       "\n",
       "               dt_z1    dt_z2    dt_s1a    dt_s2a    dt_z1a    dt_z2a  \n",
       "gvkey1 year                                                            \n",
       "1004   1995  0.11730 -0.05350       NaN       NaN       NaN       NaN  \n",
       "       1996  0.01380 -0.00057  0.018063  0.009105  0.023626  0.008049  \n",
       "       1997 -0.02096  0.00164 -0.029404  0.014351 -0.026117  0.021779  \n",
       "       1998 -0.00665  0.00562 -0.005035  0.009124  0.006675  0.013681  \n",
       "       1999  0.00224  0.01541 -0.009977  0.017640  0.001617  0.020747  "
      ]
     },
     "execution_count": 51,
     "metadata": {},
     "output_type": "execute_result"
    }
   ],
   "source": [
    "dt_sim.head()"
   ]
  },
  {
   "cell_type": "code",
   "execution_count": 60,
   "metadata": {},
   "outputs": [],
   "source": [
    "controls=['permno', 'cusip','fyear','atg','mb','income','r_d','age','neg_ni']"
   ]
  },
  {
   "cell_type": "code",
   "execution_count": 64,
   "metadata": {},
   "outputs": [],
   "source": [
    "compcont = pd.read_csv('../0_data/external/compcontrol.csv', \n",
    "                       index_col=['gvkey1', 'datadate'])[controls]"
   ]
  },
  {
   "cell_type": "code",
   "execution_count": 72,
   "metadata": {},
   "outputs": [
    {
     "data": {
      "text/html": [
       "<div>\n",
       "<style scoped>\n",
       "    .dataframe tbody tr th:only-of-type {\n",
       "        vertical-align: middle;\n",
       "    }\n",
       "\n",
       "    .dataframe tbody tr th {\n",
       "        vertical-align: top;\n",
       "    }\n",
       "\n",
       "    .dataframe thead th {\n",
       "        text-align: right;\n",
       "    }\n",
       "</style>\n",
       "<table border=\"1\" class=\"dataframe\">\n",
       "  <thead>\n",
       "    <tr style=\"text-align: right;\">\n",
       "      <th></th>\n",
       "      <th></th>\n",
       "      <th>permno</th>\n",
       "      <th>cusip</th>\n",
       "      <th>fyear</th>\n",
       "      <th>atg</th>\n",
       "      <th>mb</th>\n",
       "      <th>income</th>\n",
       "      <th>r_d</th>\n",
       "      <th>age</th>\n",
       "      <th>neg_ni</th>\n",
       "    </tr>\n",
       "    <tr>\n",
       "      <th>gvkey1</th>\n",
       "      <th>datadate</th>\n",
       "      <th></th>\n",
       "      <th></th>\n",
       "      <th></th>\n",
       "      <th></th>\n",
       "      <th></th>\n",
       "      <th></th>\n",
       "      <th></th>\n",
       "      <th></th>\n",
       "      <th></th>\n",
       "    </tr>\n",
       "  </thead>\n",
       "  <tbody>\n",
       "    <tr>\n",
       "      <th>1073</th>\n",
       "      <th>1996-12-31</th>\n",
       "      <td>10496.0</td>\n",
       "      <td>NaN</td>\n",
       "      <td>1996</td>\n",
       "      <td>NaN</td>\n",
       "      <td>NaN</td>\n",
       "      <td>NaN</td>\n",
       "      <td>NaN</td>\n",
       "      <td>NaN</td>\n",
       "      <td>NaN</td>\n",
       "    </tr>\n",
       "    <tr>\n",
       "      <th>1108</th>\n",
       "      <th>1997-06-30</th>\n",
       "      <td>51510.0</td>\n",
       "      <td>NaN</td>\n",
       "      <td>1997</td>\n",
       "      <td>NaN</td>\n",
       "      <td>NaN</td>\n",
       "      <td>NaN</td>\n",
       "      <td>NaN</td>\n",
       "      <td>NaN</td>\n",
       "      <td>NaN</td>\n",
       "    </tr>\n",
       "    <tr>\n",
       "      <th>1164</th>\n",
       "      <th>2002-12-31</th>\n",
       "      <td>11042.0</td>\n",
       "      <td>NaN</td>\n",
       "      <td>2002</td>\n",
       "      <td>-0.711255</td>\n",
       "      <td>NaN</td>\n",
       "      <td>-3.236321</td>\n",
       "      <td>0.000000</td>\n",
       "      <td>29.0</td>\n",
       "      <td>1.0</td>\n",
       "    </tr>\n",
       "    <tr>\n",
       "      <th>1183</th>\n",
       "      <th>1999-01-31</th>\n",
       "      <td>11181.0</td>\n",
       "      <td>NaN</td>\n",
       "      <td>1998</td>\n",
       "      <td>NaN</td>\n",
       "      <td>0.258312</td>\n",
       "      <td>-0.125984</td>\n",
       "      <td>0.000000</td>\n",
       "      <td>17.0</td>\n",
       "      <td>1.0</td>\n",
       "    </tr>\n",
       "    <tr>\n",
       "      <th>1259</th>\n",
       "      <th>2009-07-31</th>\n",
       "      <td>11739.0</td>\n",
       "      <td>NaN</td>\n",
       "      <td>2009</td>\n",
       "      <td>-0.895301</td>\n",
       "      <td>NaN</td>\n",
       "      <td>-8.494434</td>\n",
       "      <td>NaN</td>\n",
       "      <td>26.0</td>\n",
       "      <td>1.0</td>\n",
       "    </tr>\n",
       "    <tr>\n",
       "      <th>...</th>\n",
       "      <th>...</th>\n",
       "      <td>...</td>\n",
       "      <td>...</td>\n",
       "      <td>...</td>\n",
       "      <td>...</td>\n",
       "      <td>...</td>\n",
       "      <td>...</td>\n",
       "      <td>...</td>\n",
       "      <td>...</td>\n",
       "      <td>...</td>\n",
       "    </tr>\n",
       "    <tr>\n",
       "      <th>266319</th>\n",
       "      <th>2008-12-31</th>\n",
       "      <td>90594.0</td>\n",
       "      <td>NaN</td>\n",
       "      <td>2008</td>\n",
       "      <td>-0.965551</td>\n",
       "      <td>NaN</td>\n",
       "      <td>-16.389214</td>\n",
       "      <td>NaN</td>\n",
       "      <td>8.0</td>\n",
       "      <td>1.0</td>\n",
       "    </tr>\n",
       "    <tr>\n",
       "      <th rowspan=\"3\" valign=\"top\">277918</th>\n",
       "      <th>2012-12-31</th>\n",
       "      <td>91412.0</td>\n",
       "      <td>NaN</td>\n",
       "      <td>2012</td>\n",
       "      <td>-0.672912</td>\n",
       "      <td>NaN</td>\n",
       "      <td>-2.768838</td>\n",
       "      <td>0.729828</td>\n",
       "      <td>19.0</td>\n",
       "      <td>1.0</td>\n",
       "    </tr>\n",
       "    <tr>\n",
       "      <th>2013-12-31</th>\n",
       "      <td>91412.0</td>\n",
       "      <td>NaN</td>\n",
       "      <td>2013</td>\n",
       "      <td>-0.819967</td>\n",
       "      <td>NaN</td>\n",
       "      <td>-5.666182</td>\n",
       "      <td>0.000000</td>\n",
       "      <td>20.0</td>\n",
       "      <td>1.0</td>\n",
       "    </tr>\n",
       "    <tr>\n",
       "      <th>2014-12-31</th>\n",
       "      <td>91412.0</td>\n",
       "      <td>NaN</td>\n",
       "      <td>2014</td>\n",
       "      <td>-0.318182</td>\n",
       "      <td>NaN</td>\n",
       "      <td>-1.720533</td>\n",
       "      <td>NaN</td>\n",
       "      <td>21.0</td>\n",
       "      <td>1.0</td>\n",
       "    </tr>\n",
       "    <tr>\n",
       "      <th>282189</th>\n",
       "      <th>2016-06-30</th>\n",
       "      <td>92215.0</td>\n",
       "      <td>NaN</td>\n",
       "      <td>2016</td>\n",
       "      <td>NaN</td>\n",
       "      <td>NaN</td>\n",
       "      <td>NaN</td>\n",
       "      <td>NaN</td>\n",
       "      <td>NaN</td>\n",
       "      <td>NaN</td>\n",
       "    </tr>\n",
       "  </tbody>\n",
       "</table>\n",
       "<p>2058 rows × 9 columns</p>\n",
       "</div>"
      ],
      "text/plain": [
       "                    permno cusip  fyear       atg        mb     income  \\\n",
       "gvkey1 datadate                                                          \n",
       "1073   1996-12-31  10496.0   NaN   1996       NaN       NaN        NaN   \n",
       "1108   1997-06-30  51510.0   NaN   1997       NaN       NaN        NaN   \n",
       "1164   2002-12-31  11042.0   NaN   2002 -0.711255       NaN  -3.236321   \n",
       "1183   1999-01-31  11181.0   NaN   1998       NaN  0.258312  -0.125984   \n",
       "1259   2009-07-31  11739.0   NaN   2009 -0.895301       NaN  -8.494434   \n",
       "...                    ...   ...    ...       ...       ...        ...   \n",
       "266319 2008-12-31  90594.0   NaN   2008 -0.965551       NaN -16.389214   \n",
       "277918 2012-12-31  91412.0   NaN   2012 -0.672912       NaN  -2.768838   \n",
       "       2013-12-31  91412.0   NaN   2013 -0.819967       NaN  -5.666182   \n",
       "       2014-12-31  91412.0   NaN   2014 -0.318182       NaN  -1.720533   \n",
       "282189 2016-06-30  92215.0   NaN   2016       NaN       NaN        NaN   \n",
       "\n",
       "                        r_d   age  neg_ni  \n",
       "gvkey1 datadate                            \n",
       "1073   1996-12-31       NaN   NaN     NaN  \n",
       "1108   1997-06-30       NaN   NaN     NaN  \n",
       "1164   2002-12-31  0.000000  29.0     1.0  \n",
       "1183   1999-01-31  0.000000  17.0     1.0  \n",
       "1259   2009-07-31       NaN  26.0     1.0  \n",
       "...                     ...   ...     ...  \n",
       "266319 2008-12-31       NaN   8.0     1.0  \n",
       "277918 2012-12-31  0.729828  19.0     1.0  \n",
       "       2013-12-31  0.000000  20.0     1.0  \n",
       "       2014-12-31       NaN  21.0     1.0  \n",
       "282189 2016-06-30       NaN   NaN     NaN  \n",
       "\n",
       "[2058 rows x 9 columns]"
      ]
     },
     "execution_count": 72,
     "metadata": {},
     "output_type": "execute_result"
    }
   ],
   "source": [
    "compcont[compcont.cusip.isnull()]"
   ]
  },
  {
   "cell_type": "markdown",
   "metadata": {},
   "source": [
    "## Link SDC to COMPUSTAT"
   ]
  },
  {
   "cell_type": "markdown",
   "metadata": {},
   "source": [
    "### SDC and Compustat Link File"
   ]
  },
  {
   "cell_type": "markdown",
   "metadata": {},
   "source": [
    "The link file is from [Michael Ewens](https://github.com/michaelewens/SDC-to-Compustat-Mapping.git). Cite papers below."
   ]
  },
  {
   "cell_type": "markdown",
   "metadata": {},
   "source": [
    " ```\n",
    "@article{phillips2013r,\n",
    "  title={R\\&D and the Incentives from Merger and Acquisition Activity},\n",
    "  author={Phillips, Gordon M and Zhdanov, Alexei},\n",
    "  journal={The Review of Financial Studies},\n",
    "  volume={26},\n",
    "  number={1},\n",
    "  pages={34--78},\n",
    "  year={2013},\n",
    "  publisher={Society for Financial Studies}\n",
    "  }\n",
    " ```"
   ]
  },
  {
   "cell_type": "markdown",
   "metadata": {},
   "source": [
    "```\n",
    "@article{ewensPetersWang2018,\n",
    " title={Acquisition prices and the measurement of intangible capital},\n",
    " author={Ewens, Michael and Peters, Ryan and Wang, Sean},\n",
    " journal={Working Paper}\n",
    " year={2018}\n",
    " }\n",
    "```"
   ]
  },
  {
   "cell_type": "markdown",
   "metadata": {},
   "source": [
    "### SDC processing prohibitively slow. Work on the WRDS cloud using _sdc_link.sas_."
   ]
  },
  {
   "cell_type": "code",
   "execution_count": 73,
   "metadata": {},
   "outputs": [],
   "source": [
    "col = [\"DealNumber\",\"agvkey\",\"tgvkey\",\"AMANAMES\",\"ACUSIP\",\n",
    "       \"APUBLIC\",\"ATTITUDE\",\"FORM\",\"STATUSCODE\", \"EBITLTM\",\n",
    "       \"AMV\",\"ENTVAL\",\"BOOKVALUE\",\n",
    "       \"EQVAL\",\"MV\",\"NETASS\",\"NILTM\",\"PCT_CASH\",\"PCT_STK\",\n",
    "       \"PCT_OTHER\",\"PCT_UNKNOWN\",\"PR\",\"RANKVAL\",\"SALESLTM\",\n",
    "       \"TMANAMES\",\"TNATIONCODE\",\"TPUBLIC\",\"MASTER_CUSIP\",\"TTICKER\"]"
   ]
  },
  {
   "cell_type": "code",
   "execution_count": 74,
   "metadata": {},
   "outputs": [],
   "source": [
    "type = {}\n",
    "for var in col:\n",
    "    if var in [\"DealNumber\",\"agvkey\",\"tgvkey\"]:\n",
    "        type[var] = 'Int64'\n",
    "    if var in [\"ACUSIP\",\"APUBLIC\",\"ATTITUDE\",\"FORM\",\"STATUSCODE\",\n",
    "               \"TNATIONCODE\",\"TPUBLIC\",\"MASTER_CUSIP\",\"TTICKER\"]:\n",
    "        type[var] = 'category'\n"
   ]
  },
  {
   "cell_type": "code",
   "execution_count": 75,
   "metadata": {},
   "outputs": [
    {
     "data": {
      "text/plain": [
       "Timestamp('2017-09-13 00:00:00')"
      ]
     },
     "execution_count": 75,
     "metadata": {},
     "output_type": "execute_result"
    }
   ],
   "source": [
    "sdc_link['DATEANN'].max()"
   ]
  },
  {
   "cell_type": "code",
   "execution_count": 76,
   "metadata": {},
   "outputs": [],
   "source": [
    "sdc_link = pd.read_csv('../0_data/external/sdc_gvkey.csv', \n",
    "                       header=0,\n",
    "                       parse_dates=['DATEANN','DATEEFF','DATEFIN'],\n",
    "                       dtype=type, low_memory=False)"
   ]
  },
  {
   "cell_type": "code",
   "execution_count": 77,
   "metadata": {},
   "outputs": [],
   "source": [
    "for var in [\"EBITLTM\", \"AMV\",\"ENTVAL\",\"BOOKVALUE\",\n",
    "            \"EQVAL\",\"MV\",\"NETASS\",\"NILTM\",\"PR\",\"RANKVAL\",\"SALESLTM\"]:\n",
    "    sdc_link[var] = np.where(sdc_link[var].isin(['nan', 'None', 'P', 'M']), np.NaN,\n",
    "                             sdc_link[var].str.replace(',',''))\n",
    "    sdc_link[var] = pd.to_numeric(sdc_link[var]).astype('float')"
   ]
  },
  {
   "cell_type": "code",
   "execution_count": 78,
   "metadata": {},
   "outputs": [],
   "source": [
    "sdc_link.set_index('DealNumber', inplace=True)"
   ]
  },
  {
   "cell_type": "code",
   "execution_count": 79,
   "metadata": {},
   "outputs": [],
   "source": [
    "compmna = sdc_link[lambda x : ~x['FORM'].isin(['Acq. Part. Int.','Acq. Rem. Int.'])]"
   ]
  },
  {
   "cell_type": "code",
   "execution_count": 80,
   "metadata": {},
   "outputs": [
    {
     "data": {
      "text/html": [
       "<div>\n",
       "<style scoped>\n",
       "    .dataframe tbody tr th:only-of-type {\n",
       "        vertical-align: middle;\n",
       "    }\n",
       "\n",
       "    .dataframe tbody tr th {\n",
       "        vertical-align: top;\n",
       "    }\n",
       "\n",
       "    .dataframe thead th {\n",
       "        text-align: right;\n",
       "    }\n",
       "</style>\n",
       "<table border=\"1\" class=\"dataframe\">\n",
       "  <thead>\n",
       "    <tr style=\"text-align: right;\">\n",
       "      <th></th>\n",
       "      <th>agvkey</th>\n",
       "    </tr>\n",
       "    <tr>\n",
       "      <th>FORM</th>\n",
       "      <th></th>\n",
       "    </tr>\n",
       "  </thead>\n",
       "  <tbody>\n",
       "    <tr>\n",
       "      <th>Acq. Cert. Asts.</th>\n",
       "      <td>337</td>\n",
       "    </tr>\n",
       "    <tr>\n",
       "      <th>Acq. Maj. Int.</th>\n",
       "      <td>3244</td>\n",
       "    </tr>\n",
       "    <tr>\n",
       "      <th>Acq. Part. Int.</th>\n",
       "      <td>0</td>\n",
       "    </tr>\n",
       "    <tr>\n",
       "      <th>Acq. Rem. Int.</th>\n",
       "      <td>0</td>\n",
       "    </tr>\n",
       "    <tr>\n",
       "      <th>Acq. of Assets</th>\n",
       "      <td>54803</td>\n",
       "    </tr>\n",
       "    <tr>\n",
       "      <th>Acquisition</th>\n",
       "      <td>3</td>\n",
       "    </tr>\n",
       "    <tr>\n",
       "      <th>Merger</th>\n",
       "      <td>15771</td>\n",
       "    </tr>\n",
       "  </tbody>\n",
       "</table>\n",
       "</div>"
      ],
      "text/plain": [
       "                  agvkey\n",
       "FORM                    \n",
       "Acq. Cert. Asts.     337\n",
       "Acq. Maj. Int.      3244\n",
       "Acq. Part. Int.        0\n",
       "Acq. Rem. Int.         0\n",
       "Acq. of Assets     54803\n",
       "Acquisition            3\n",
       "Merger             15771"
      ]
     },
     "execution_count": 80,
     "metadata": {},
     "output_type": "execute_result"
    }
   ],
   "source": [
    "compmna[['FORM','agvkey']].groupby('FORM').count()"
   ]
  },
  {
   "cell_type": "markdown",
   "metadata": {},
   "source": [
    "Drop _AP_ and _AR_.\n",
    "\n",
    "Form of the Transaction: 10 codes describing the specific form of the transaction:\n",
    "- M (MERGER): A combination of business takes place or 100% of the stock of a public or private company is acquired.\n",
    "- A (ACQUISITION): deal in which 100% of a company is spun off or split off is classified as an acquisition by shareholders.\n",
    "- AM (ACQ OF MAJORITY INTEREST): the acquiror must have held less than 50% and be seeking to acquire 50% or more, but less than 100% of the target company’s stock.\n",
    "- AP (ACQ OF PARTIAL INTEREST): deals in which the acquiror holds less than 50% and is seeking to acquire less than 50%, or the acquiror holds over 50% and is seeking less than 100% of the target company’s stock. \n",
    "- AR (ACQ OF REMAINING INTEREST): deals in which the acquiror holds over 50% and is seeking to acquire 100% of the target company’s stock.\n",
    "- AA (ACQ OF ASSETS): deals in which the assets of a company, subsidiary, division, or branch are acquired. This code is used in all transactions when a company is being acquired and the consideration sought is not given.\n",
    "- AC: (ACQ OF CERTAIN ASSETS): deals in which sources state that “certain assets” of a company, subsidiary, or division are acquired.\n",
    "- R (RECAPITALIZATION): deals in which a company undergoes a shareholders’ Leveraged recapitalization in which the company issues a special one-time dividend (in the form of cash, debt securities, preferred stock, or assets) allowing shareholders to retain an equity interest in the company.\n",
    "- B (BUYBACK): deals in which the company buys back its equity securities or securities convertible into equity, either on the open market, through privately negotiated transactions, or through a tender offer. Board authorized repurchases are included.\n",
    "- EO (EXCHANGE OFFER): deals in which a company offers to exchange new securities for its equity securities outstanding or its securities convertible into equity."
   ]
  },
  {
   "cell_type": "code",
   "execution_count": 81,
   "metadata": {},
   "outputs": [],
   "source": [
    "datadate['lagdate'] = datadate.groupby('gvkey1')['datadate'].shift(1) + pd.DateOffset(days=1)"
   ]
  },
  {
   "cell_type": "code",
   "execution_count": 82,
   "metadata": {},
   "outputs": [],
   "source": [
    "datadate['lagdate'] = np.where(datadate['lagdate'].isna(),\n",
    "                              datadate['datadate'] - pd.DateOffset(years=1) + pd.DateOffset(days=1),\n",
    "                              datadate['lagdate'])"
   ]
  },
  {
   "cell_type": "code",
   "execution_count": 83,
   "metadata": {},
   "outputs": [],
   "source": [
    "compmna.to_sql('compmna', conn, index=True, if_exists='replace')\n",
    "datadate.to_sql('datadate', conn, index = True, if_exists='replace')\n",
    "qry = '''\n",
    "    select *\n",
    "    from \n",
    "        (select\n",
    "                a.*, b.datadate, b.fyear\n",
    "            from\n",
    "                compmna a left join datadate b on\n",
    "                a.agvkey == b.gvkey1 and b.datadate >= a.dateeff\n",
    "            group by \n",
    "                a.DealNumber\n",
    "        )\n",
    "        '''\n",
    "temp1 = pd.read_sql_query(qry, conn)"
   ]
  },
  {
   "cell_type": "code",
   "execution_count": 84,
   "metadata": {},
   "outputs": [],
   "source": [
    "for col in ['tgvkey', 'fyear']:\n",
    "    temp1[col] = temp1[col].astype('Int64')\n",
    "for col in ['agvkey', 'tgvkey', 'ACUSIP', 'APUBLIC', 'ATTITUDE', 'FORM', 'STATUSCODE',\n",
    "             'TNATIONCODE', 'TPUBLIC', 'MASTER_CUSIP', 'TTICKER']:\n",
    "    temp1[col] = temp1[col].astype('category')\n",
    "for col in ['datadate', 'DATEANN', 'DATEEFF', 'DATEFIN']:\n",
    "    temp1[col] = temp1[col].astype('datetime64[ns]')"
   ]
  },
  {
   "cell_type": "code",
   "execution_count": 85,
   "metadata": {},
   "outputs": [],
   "source": [
    "compmna = temp1[(temp1['datadate'] - temp1['DATEEFF']).dt.days <= 370]\n",
    "\n",
    "col = list(compmna)\n",
    "col.insert(5, col.pop(col.index('datadate')))\n",
    "col.insert(6, col.pop(col.index('fyear')))\n",
    "compmna = compmna[col]"
   ]
  },
  {
   "cell_type": "code",
   "execution_count": 86,
   "metadata": {},
   "outputs": [],
   "source": [
    "compmna.set_index('DealNumber', inplace=True)"
   ]
  },
  {
   "cell_type": "markdown",
   "metadata": {},
   "source": [
    "SDC obsevations with logical (less than 370 day difference from effective date) Compustat _datadate_"
   ]
  },
  {
   "cell_type": "code",
   "execution_count": 90,
   "metadata": {},
   "outputs": [
    {
     "data": {
      "text/html": [
       "<div>\n",
       "<style scoped>\n",
       "    .dataframe tbody tr th:only-of-type {\n",
       "        vertical-align: middle;\n",
       "    }\n",
       "\n",
       "    .dataframe tbody tr th {\n",
       "        vertical-align: top;\n",
       "    }\n",
       "\n",
       "    .dataframe thead th {\n",
       "        text-align: right;\n",
       "    }\n",
       "</style>\n",
       "<table border=\"1\" class=\"dataframe\">\n",
       "  <thead>\n",
       "    <tr style=\"text-align: right;\">\n",
       "      <th></th>\n",
       "      <th>agvkey</th>\n",
       "      <th>tgvkey</th>\n",
       "      <th>AMANAMES</th>\n",
       "      <th>ACUSIP</th>\n",
       "      <th>datadate</th>\n",
       "      <th>fyear</th>\n",
       "      <th>APUBLIC</th>\n",
       "      <th>ATTITUDE</th>\n",
       "      <th>FORM</th>\n",
       "      <th>STATUSCODE</th>\n",
       "      <th>...</th>\n",
       "      <th>PCT_OTHER</th>\n",
       "      <th>PCT_UNKNOWN</th>\n",
       "      <th>PR</th>\n",
       "      <th>RANKVAL</th>\n",
       "      <th>SALESLTM</th>\n",
       "      <th>TMANAMES</th>\n",
       "      <th>TNATIONCODE</th>\n",
       "      <th>TPUBLIC</th>\n",
       "      <th>MASTER_CUSIP</th>\n",
       "      <th>TTICKER</th>\n",
       "    </tr>\n",
       "    <tr>\n",
       "      <th>DealNumber</th>\n",
       "      <th></th>\n",
       "      <th></th>\n",
       "      <th></th>\n",
       "      <th></th>\n",
       "      <th></th>\n",
       "      <th></th>\n",
       "      <th></th>\n",
       "      <th></th>\n",
       "      <th></th>\n",
       "      <th></th>\n",
       "      <th></th>\n",
       "      <th></th>\n",
       "      <th></th>\n",
       "      <th></th>\n",
       "      <th></th>\n",
       "      <th></th>\n",
       "      <th></th>\n",
       "      <th></th>\n",
       "      <th></th>\n",
       "      <th></th>\n",
       "      <th></th>\n",
       "    </tr>\n",
       "  </thead>\n",
       "  <tbody>\n",
       "    <tr>\n",
       "      <th>194489020</th>\n",
       "      <td>1998</td>\n",
       "      <td>12347</td>\n",
       "      <td>BANC ONE Corp,Columbus,Ohio</td>\n",
       "      <td>059438</td>\n",
       "      <td>1996-12-31</td>\n",
       "      <td>1996</td>\n",
       "      <td>Public</td>\n",
       "      <td>Friendly</td>\n",
       "      <td>Merger</td>\n",
       "      <td>C</td>\n",
       "      <td>...</td>\n",
       "      <td>NaN</td>\n",
       "      <td>NaN</td>\n",
       "      <td>20.15</td>\n",
       "      <td>695.476</td>\n",
       "      <td>417.411</td>\n",
       "      <td>Premier Bancorp,Baton Rouge,LA</td>\n",
       "      <td>US</td>\n",
       "      <td>Public</td>\n",
       "      <td>740900</td>\n",
       "      <td>PRBC</td>\n",
       "    </tr>\n",
       "    <tr>\n",
       "      <th>336679020</th>\n",
       "      <td>9236</td>\n",
       "      <td>23979</td>\n",
       "      <td>Rhone-Poulenc Rorer Inc</td>\n",
       "      <td>76242T</td>\n",
       "      <td>1995-12-31</td>\n",
       "      <td>1995</td>\n",
       "      <td>Public</td>\n",
       "      <td>Friendly</td>\n",
       "      <td>Acq. Maj. Int.</td>\n",
       "      <td>C</td>\n",
       "      <td>...</td>\n",
       "      <td>NaN</td>\n",
       "      <td>100.0</td>\n",
       "      <td>25.00</td>\n",
       "      <td>150.000</td>\n",
       "      <td>1.540</td>\n",
       "      <td>Applied Immune Sciences Inc</td>\n",
       "      <td>US</td>\n",
       "      <td>Public</td>\n",
       "      <td>03820F</td>\n",
       "      <td>AISX</td>\n",
       "    </tr>\n",
       "    <tr>\n",
       "      <th>344050020</th>\n",
       "      <td>5048</td>\n",
       "      <td>NaN</td>\n",
       "      <td>General Electric Capital Corp</td>\n",
       "      <td>369622</td>\n",
       "      <td>1997-12-31</td>\n",
       "      <td>1997</td>\n",
       "      <td>Public</td>\n",
       "      <td>Friendly</td>\n",
       "      <td>Acq. of Assets</td>\n",
       "      <td>C</td>\n",
       "      <td>...</td>\n",
       "      <td>NaN</td>\n",
       "      <td>NaN</td>\n",
       "      <td>NaN</td>\n",
       "      <td>NaN</td>\n",
       "      <td>NaN</td>\n",
       "      <td>Trans-Leasing Intl-Assets</td>\n",
       "      <td>US</td>\n",
       "      <td>Sub.</td>\n",
       "      <td>89324H</td>\n",
       "      <td>NaN</td>\n",
       "    </tr>\n",
       "    <tr>\n",
       "      <th>368462040</th>\n",
       "      <td>8543</td>\n",
       "      <td>NaN</td>\n",
       "      <td>Philip Morris Cos Inc</td>\n",
       "      <td>718154</td>\n",
       "      <td>1998-12-31</td>\n",
       "      <td>1998</td>\n",
       "      <td>Public</td>\n",
       "      <td>Friendly</td>\n",
       "      <td>Acq. Maj. Int.</td>\n",
       "      <td>C</td>\n",
       "      <td>...</td>\n",
       "      <td>NaN</td>\n",
       "      <td>100.0</td>\n",
       "      <td>NaN</td>\n",
       "      <td>211.895</td>\n",
       "      <td>NaN</td>\n",
       "      <td>Tabaqueira Empresa Industrial</td>\n",
       "      <td>PO</td>\n",
       "      <td>Govt.</td>\n",
       "      <td>87327A</td>\n",
       "      <td>NaN</td>\n",
       "    </tr>\n",
       "    <tr>\n",
       "      <th>378271020</th>\n",
       "      <td>25341</td>\n",
       "      <td>NaN</td>\n",
       "      <td>Kronos Inc</td>\n",
       "      <td>501052</td>\n",
       "      <td>1999-09-30</td>\n",
       "      <td>1999</td>\n",
       "      <td>Public</td>\n",
       "      <td>Friendly</td>\n",
       "      <td>Acq. of Assets</td>\n",
       "      <td>C</td>\n",
       "      <td>...</td>\n",
       "      <td>NaN</td>\n",
       "      <td>NaN</td>\n",
       "      <td>NaN</td>\n",
       "      <td>NaN</td>\n",
       "      <td>NaN</td>\n",
       "      <td>Interboro Systems Corp</td>\n",
       "      <td>US</td>\n",
       "      <td>Priv.</td>\n",
       "      <td>45843L</td>\n",
       "      <td>NaN</td>\n",
       "    </tr>\n",
       "    <tr>\n",
       "      <th>...</th>\n",
       "      <td>...</td>\n",
       "      <td>...</td>\n",
       "      <td>...</td>\n",
       "      <td>...</td>\n",
       "      <td>...</td>\n",
       "      <td>...</td>\n",
       "      <td>...</td>\n",
       "      <td>...</td>\n",
       "      <td>...</td>\n",
       "      <td>...</td>\n",
       "      <td>...</td>\n",
       "      <td>...</td>\n",
       "      <td>...</td>\n",
       "      <td>...</td>\n",
       "      <td>...</td>\n",
       "      <td>...</td>\n",
       "      <td>...</td>\n",
       "      <td>...</td>\n",
       "      <td>...</td>\n",
       "      <td>...</td>\n",
       "      <td>...</td>\n",
       "    </tr>\n",
       "    <tr>\n",
       "      <th>3113578020</th>\n",
       "      <td>22037</td>\n",
       "      <td>NaN</td>\n",
       "      <td>Sientra Inc</td>\n",
       "      <td>82621J</td>\n",
       "      <td>2017-12-31</td>\n",
       "      <td>2017</td>\n",
       "      <td>Public</td>\n",
       "      <td>Friendly</td>\n",
       "      <td>Merger</td>\n",
       "      <td>C</td>\n",
       "      <td>...</td>\n",
       "      <td>69.15</td>\n",
       "      <td>NaN</td>\n",
       "      <td>0.32</td>\n",
       "      <td>9.529</td>\n",
       "      <td>6.615</td>\n",
       "      <td>Miramar Labs Inc</td>\n",
       "      <td>US</td>\n",
       "      <td>Public</td>\n",
       "      <td>60503C</td>\n",
       "      <td>MRLB</td>\n",
       "    </tr>\n",
       "    <tr>\n",
       "      <th>3128101020</th>\n",
       "      <td>28742</td>\n",
       "      <td>14170</td>\n",
       "      <td>BorgWarner Inc</td>\n",
       "      <td>099724</td>\n",
       "      <td>2017-12-31</td>\n",
       "      <td>2017</td>\n",
       "      <td>Public</td>\n",
       "      <td>Friendly</td>\n",
       "      <td>Merger</td>\n",
       "      <td>C</td>\n",
       "      <td>...</td>\n",
       "      <td>NaN</td>\n",
       "      <td>NaN</td>\n",
       "      <td>22.00</td>\n",
       "      <td>150.487</td>\n",
       "      <td>60.363</td>\n",
       "      <td>Sevcon Inc</td>\n",
       "      <td>US</td>\n",
       "      <td>Public</td>\n",
       "      <td>81783K</td>\n",
       "      <td>SEV</td>\n",
       "    </tr>\n",
       "    <tr>\n",
       "      <th>3136151020</th>\n",
       "      <td>24720</td>\n",
       "      <td>4156</td>\n",
       "      <td>Wabash National Corp</td>\n",
       "      <td>929566</td>\n",
       "      <td>2017-12-31</td>\n",
       "      <td>2017</td>\n",
       "      <td>Public</td>\n",
       "      <td>Friendly</td>\n",
       "      <td>Merger</td>\n",
       "      <td>C</td>\n",
       "      <td>...</td>\n",
       "      <td>NaN</td>\n",
       "      <td>100.0</td>\n",
       "      <td>21.00</td>\n",
       "      <td>675.407</td>\n",
       "      <td>300.791</td>\n",
       "      <td>Supreme Industries Inc</td>\n",
       "      <td>US</td>\n",
       "      <td>Public</td>\n",
       "      <td>868607</td>\n",
       "      <td>STS</td>\n",
       "    </tr>\n",
       "    <tr>\n",
       "      <th>3146627020</th>\n",
       "      <td>26590</td>\n",
       "      <td>14169</td>\n",
       "      <td>Fortive Corp</td>\n",
       "      <td>34959J</td>\n",
       "      <td>2017-12-31</td>\n",
       "      <td>2017</td>\n",
       "      <td>Public</td>\n",
       "      <td>Friendly</td>\n",
       "      <td>Merger</td>\n",
       "      <td>C</td>\n",
       "      <td>...</td>\n",
       "      <td>NaN</td>\n",
       "      <td>NaN</td>\n",
       "      <td>67.25</td>\n",
       "      <td>727.766</td>\n",
       "      <td>153.355</td>\n",
       "      <td>Landauer Inc</td>\n",
       "      <td>US</td>\n",
       "      <td>Public</td>\n",
       "      <td>51476K</td>\n",
       "      <td>LDR</td>\n",
       "    </tr>\n",
       "    <tr>\n",
       "      <th>3149705020</th>\n",
       "      <td>24660</td>\n",
       "      <td>NaN</td>\n",
       "      <td>Appliance Recycling Centers</td>\n",
       "      <td>03814F</td>\n",
       "      <td>2017-12-31</td>\n",
       "      <td>2017</td>\n",
       "      <td>Public</td>\n",
       "      <td>Friendly</td>\n",
       "      <td>Merger</td>\n",
       "      <td>C</td>\n",
       "      <td>...</td>\n",
       "      <td>NaN</td>\n",
       "      <td>NaN</td>\n",
       "      <td>NaN</td>\n",
       "      <td>NaN</td>\n",
       "      <td>NaN</td>\n",
       "      <td>GeoTraq Inc</td>\n",
       "      <td>US</td>\n",
       "      <td>Public</td>\n",
       "      <td>373677</td>\n",
       "      <td>GTRQ</td>\n",
       "    </tr>\n",
       "  </tbody>\n",
       "</table>\n",
       "<p>72205 rows × 33 columns</p>\n",
       "</div>"
      ],
      "text/plain": [
       "           agvkey tgvkey                       AMANAMES  ACUSIP   datadate  \\\n",
       "DealNumber                                                                   \n",
       "194489020    1998  12347    BANC ONE Corp,Columbus,Ohio  059438 1996-12-31   \n",
       "336679020    9236  23979        Rhone-Poulenc Rorer Inc  76242T 1995-12-31   \n",
       "344050020    5048    NaN  General Electric Capital Corp  369622 1997-12-31   \n",
       "368462040    8543    NaN          Philip Morris Cos Inc  718154 1998-12-31   \n",
       "378271020   25341    NaN                     Kronos Inc  501052 1999-09-30   \n",
       "...           ...    ...                            ...     ...        ...   \n",
       "3113578020  22037    NaN                    Sientra Inc  82621J 2017-12-31   \n",
       "3128101020  28742  14170                 BorgWarner Inc  099724 2017-12-31   \n",
       "3136151020  24720   4156           Wabash National Corp  929566 2017-12-31   \n",
       "3146627020  26590  14169                   Fortive Corp  34959J 2017-12-31   \n",
       "3149705020  24660    NaN    Appliance Recycling Centers  03814F 2017-12-31   \n",
       "\n",
       "            fyear APUBLIC  ATTITUDE            FORM STATUSCODE  ... PCT_OTHER  \\\n",
       "DealNumber                                                      ...             \n",
       "194489020    1996  Public  Friendly          Merger          C  ...       NaN   \n",
       "336679020    1995  Public  Friendly  Acq. Maj. Int.          C  ...       NaN   \n",
       "344050020    1997  Public  Friendly  Acq. of Assets          C  ...       NaN   \n",
       "368462040    1998  Public  Friendly  Acq. Maj. Int.          C  ...       NaN   \n",
       "378271020    1999  Public  Friendly  Acq. of Assets          C  ...       NaN   \n",
       "...           ...     ...       ...             ...        ...  ...       ...   \n",
       "3113578020   2017  Public  Friendly          Merger          C  ...     69.15   \n",
       "3128101020   2017  Public  Friendly          Merger          C  ...       NaN   \n",
       "3136151020   2017  Public  Friendly          Merger          C  ...       NaN   \n",
       "3146627020   2017  Public  Friendly          Merger          C  ...       NaN   \n",
       "3149705020   2017  Public  Friendly          Merger          C  ...       NaN   \n",
       "\n",
       "           PCT_UNKNOWN     PR  RANKVAL  SALESLTM  \\\n",
       "DealNumber                                         \n",
       "194489020          NaN  20.15  695.476   417.411   \n",
       "336679020        100.0  25.00  150.000     1.540   \n",
       "344050020          NaN    NaN      NaN       NaN   \n",
       "368462040        100.0    NaN  211.895       NaN   \n",
       "378271020          NaN    NaN      NaN       NaN   \n",
       "...                ...    ...      ...       ...   \n",
       "3113578020         NaN   0.32    9.529     6.615   \n",
       "3128101020         NaN  22.00  150.487    60.363   \n",
       "3136151020       100.0  21.00  675.407   300.791   \n",
       "3146627020         NaN  67.25  727.766   153.355   \n",
       "3149705020         NaN    NaN      NaN       NaN   \n",
       "\n",
       "                                  TMANAMES  TNATIONCODE  TPUBLIC  \\\n",
       "DealNumber                                                         \n",
       "194489020   Premier Bancorp,Baton Rouge,LA           US   Public   \n",
       "336679020      Applied Immune Sciences Inc           US   Public   \n",
       "344050020        Trans-Leasing Intl-Assets           US     Sub.   \n",
       "368462040    Tabaqueira Empresa Industrial           PO    Govt.   \n",
       "378271020           Interboro Systems Corp           US    Priv.   \n",
       "...                                    ...          ...      ...   \n",
       "3113578020                Miramar Labs Inc           US   Public   \n",
       "3128101020                      Sevcon Inc           US   Public   \n",
       "3136151020          Supreme Industries Inc           US   Public   \n",
       "3146627020                    Landauer Inc           US   Public   \n",
       "3149705020                     GeoTraq Inc           US   Public   \n",
       "\n",
       "            MASTER_CUSIP  TTICKER  \n",
       "DealNumber                         \n",
       "194489020         740900     PRBC  \n",
       "336679020         03820F     AISX  \n",
       "344050020         89324H      NaN  \n",
       "368462040         87327A      NaN  \n",
       "378271020         45843L      NaN  \n",
       "...                  ...      ...  \n",
       "3113578020        60503C     MRLB  \n",
       "3128101020        81783K      SEV  \n",
       "3136151020        868607      STS  \n",
       "3146627020        51476K      LDR  \n",
       "3149705020        373677     GTRQ  \n",
       "\n",
       "[72205 rows x 33 columns]"
      ]
     },
     "execution_count": 90,
     "metadata": {},
     "output_type": "execute_result"
    }
   ],
   "source": [
    "compmna"
   ]
  },
  {
   "cell_type": "markdown",
   "metadata": {},
   "source": [
    "Non-missing target sales + Missing target sales but target _gvkey_ available"
   ]
  },
  {
   "cell_type": "markdown",
   "metadata": {},
   "source": [
    "## Construct IV by acquirer's _gvkey_ and _datadate_"
   ]
  },
  {
   "cell_type": "markdown",
   "metadata": {},
   "source": [
    "### Grab Compustat Sales"
   ]
  },
  {
   "cell_type": "code",
   "execution_count": null,
   "metadata": {},
   "outputs": [],
   "source": [
    "sale = comp[comp['sale'].notnull() & comp['sale']!=0][['sale']]"
   ]
  },
  {
   "cell_type": "code",
   "execution_count": null,
   "metadata": {},
   "outputs": [],
   "source": [
    "compmna.to_sql('compmna', conn, index=True, if_exists='replace')\n",
    "\n",
    "sale.to_sql('sale', conn, index=True, if_exists='replace')\n",
    "qry = '''\n",
    "        select a.*, b.sale as a_sale, b.fyear as amatch\n",
    "        from compmna a left join sale b\n",
    "        on a.agvkey = b.gvkey1 and b.fyear =  \n",
    "        (select fy.fyear \n",
    "            from sale as fy \n",
    "            where a.agvkey = fy.gvkey1 and fy.fyear < a.fyear\n",
    "            order by fy.fyear desc\n",
    "            limit 1\n",
    "        )\n",
    "        '''\n",
    "temp = pd.read_sql_query(qry, conn)\n",
    "temp.to_sql('temp', conn, index=True, if_exists='replace')\n",
    "\n",
    "qry = '''\n",
    "        select a.*, b.sale as t_sale, b.fyear as tmatch\n",
    "        from temp a left join sale b\n",
    "        on a.tgvkey = b.gvkey1 and b.fyear =  \n",
    "        (select fy.fyear \n",
    "            from sale as fy \n",
    "            where a.tgvkey = fy.gvkey1 and fy.fyear < a.fyear\n",
    "            order by fy.fyear desc\n",
    "            limit 1\n",
    "        )\n",
    "        '''\n",
    "compmna = pd.read_sql_query(qry, conn)"
   ]
  },
  {
   "cell_type": "code",
   "execution_count": null,
   "metadata": {},
   "outputs": [],
   "source": [
    "for col in ['agvkey', 'tgvkey']:\n",
    "    compmna[col] = pd.to_numeric(compmna[col]).astype('Int64')\n",
    "for col in ['fyear', 'amatch', 'tmatch']:\n",
    "    compmna[col] = compmna[col].astype('Int64')\n",
    "for col in ['agvkey', 'tgvkey', 'ACUSIP', 'APUBLIC', 'ATTITUDE', 'FORM', 'STATUSCODE',\n",
    "             'TNATIONCODE', 'TPUBLIC', 'MASTER_CUSIP', 'TTICKER']:\n",
    "    compmna[col] = compmna[col].astype('category')\n",
    "for col in ['datadate', 'DATEANN', 'DATEEFF', 'DATEFIN']:\n",
    "    compmna[col] = compmna[col].astype('datetime64[ns]')"
   ]
  },
  {
   "cell_type": "code",
   "execution_count": null,
   "metadata": {},
   "outputs": [],
   "source": [
    "compmna.drop(columns=['index'], inplace=True)"
   ]
  },
  {
   "cell_type": "code",
   "execution_count": null,
   "metadata": {},
   "outputs": [],
   "source": [
    "compmna.set_index(['agvkey','DealNumber'], inplace=True, verify_integrity=True)"
   ]
  },
  {
   "cell_type": "markdown",
   "metadata": {},
   "source": [
    "### Calculate IV based on effective date"
   ]
  },
  {
   "cell_type": "markdown",
   "metadata": {},
   "source": [
    "#### Number of days from effective date to fiscal year-end"
   ]
  },
  {
   "cell_type": "code",
   "execution_count": null,
   "metadata": {},
   "outputs": [],
   "source": [
    "compmna['days'] = (compmna['datadate'] - compmna['DATEEFF']).dt.days"
   ]
  },
  {
   "cell_type": "markdown",
   "metadata": {},
   "source": [
    "Very few observations have negative target and acquirer sales."
   ]
  },
  {
   "cell_type": "code",
   "execution_count": null,
   "metadata": {},
   "outputs": [],
   "source": [
    "compmna = compmna[~(compmna['a_sale']<0) & ~(compmna['t_sale']<0) & compmna['a_sale'].notnull()]"
   ]
  },
  {
   "cell_type": "code",
   "execution_count": null,
   "metadata": {},
   "outputs": [],
   "source": [
    "compmna['iv1'] = compmna['days']/365 * (abs(compmna['SALESLTM']/compmna['a_sale']))"
   ]
  },
  {
   "cell_type": "code",
   "execution_count": null,
   "metadata": {},
   "outputs": [],
   "source": [
    "compmna['iv4'] = abs(compmna['SALESLTM']/compmna['a_sale'])"
   ]
  },
  {
   "cell_type": "code",
   "execution_count": null,
   "metadata": {},
   "outputs": [],
   "source": [
    "compmna['iv2'] = np.where(compmna['iv1'].notnull(), compmna['iv1'], \n",
    "                         compmna['days']/365 * (abs(compmna['MV']/compmna['AMV'])))"
   ]
  },
  {
   "cell_type": "code",
   "execution_count": null,
   "metadata": {},
   "outputs": [],
   "source": [
    "compmna['iv5'] = np.where(compmna['iv4'].notnull(), compmna['iv4'],(abs(compmna['MV']/compmna['AMV'])))"
   ]
  },
  {
   "cell_type": "code",
   "execution_count": null,
   "metadata": {},
   "outputs": [],
   "source": [
    "compmna['iv3'] = np.where(compmna['iv2'].notnull(), compmna['iv2'], \n",
    "                         compmna['days']/365 * (abs(compmna['t_sale']/compmna['a_sale'])))"
   ]
  },
  {
   "cell_type": "code",
   "execution_count": null,
   "metadata": {},
   "outputs": [],
   "source": [
    "compmna['iv6'] = np.where(compmna['iv5'].notnull(), compmna['iv5'], (abs(compmna['t_sale']/compmna['a_sale'])))"
   ]
  },
  {
   "cell_type": "code",
   "execution_count": null,
   "metadata": {},
   "outputs": [],
   "source": [
    "iv = compmna.reset_index().groupby(['agvkey','datadate']).sum()[['iv1','iv2','iv3','iv4','iv5','iv6']]"
   ]
  },
  {
   "cell_type": "code",
   "execution_count": null,
   "metadata": {},
   "outputs": [],
   "source": [
    "iv['n'] = compmna.reset_index()[['agvkey','datadate','DealNumber']].groupby(['agvkey','datadate']).count()"
   ]
  },
  {
   "cell_type": "code",
   "execution_count": null,
   "metadata": {},
   "outputs": [],
   "source": [
    "iv = iv[iv['n'].notnull()]"
   ]
  },
  {
   "cell_type": "markdown",
   "metadata": {},
   "source": [
    "#### Change IV to NaN based on values"
   ]
  },
  {
   "cell_type": "markdown",
   "metadata": {},
   "source": [
    "- Change 4 to NaN if 4 is 0 and 5 is not \n",
    "- Change 4, 5 to NaN if 4,5 are 0 and 6 is not\n",
    "- Change 6 to NaN if 4-6 are 0"
   ]
  },
  {
   "cell_type": "code",
   "execution_count": null,
   "metadata": {},
   "outputs": [],
   "source": [
    "iv['iv4'] = np.where((iv['iv4']==0)&(iv['iv5']>0),np.NaN, iv['iv4'])"
   ]
  },
  {
   "cell_type": "code",
   "execution_count": null,
   "metadata": {},
   "outputs": [],
   "source": [
    "iv['iv4'] = np.where((iv['iv4']==0)&(iv['iv5']==0)&(iv['iv6']>0),\n",
    "                     np.NaN, iv['iv4'])\n",
    "iv['iv5'] = np.where((iv['iv4'].isna())&(iv['iv5']==0)&(iv['iv6']>0),\n",
    "                     np.NaN, iv['iv5'])"
   ]
  },
  {
   "cell_type": "code",
   "execution_count": null,
   "metadata": {},
   "outputs": [],
   "source": [
    "iv['iv4'] = np.where((iv['iv4']==0)&(iv['iv5']==0)&(iv['iv6']==0),\n",
    "                     np.NaN, iv['iv4'])\n",
    "iv['iv5'] = np.where((iv['iv4'].isna())&(iv['iv5']==0)&(iv['iv6']==0),\n",
    "                     np.NaN, iv['iv5'])\n",
    "iv['iv6'] = np.where((iv['iv4'].isna())&(iv['iv5'].isna())&(iv['iv6']==0),\n",
    "                     np.NaN, iv['iv6'])"
   ]
  },
  {
   "cell_type": "code",
   "execution_count": null,
   "metadata": {},
   "outputs": [],
   "source": [
    "iv['iv1'] = np.where(iv['iv4'].isna(), np.NaN, iv['iv1'])\n",
    "iv['iv2'] = np.where(iv['iv5'].isna(), np.NaN, iv['iv2'])\n",
    "iv['iv3'] = np.where(iv['iv6'].isna(), np.NaN, iv['iv3'])"
   ]
  },
  {
   "cell_type": "markdown",
   "metadata": {},
   "source": [
    "Number of each IV"
   ]
  },
  {
   "cell_type": "code",
   "execution_count": null,
   "metadata": {},
   "outputs": [],
   "source": [
    "print(len(iv[iv['iv1'].notnull()]),len(iv[iv['iv2'].notnull()]),len(iv[iv['iv3'].notnull()]))"
   ]
  },
  {
   "cell_type": "markdown",
   "metadata": {},
   "source": [
    "## Combine _dt_sim_ and _iv_"
   ]
  },
  {
   "cell_type": "code",
   "execution_count": null,
   "metadata": {},
   "outputs": [],
   "source": [
    "sim_iv = dt_sim[dt_sim['dt_s1'].notnull()].reset_index().rename(columns={'gvkey1':'agvkey'}).merge(iv.reset_index(),\n",
    "                                                                        on=['agvkey','datadate'],\n",
    "                                                                        indicator=True, how='left').set_index(['agvkey','datadate'])"
   ]
  },
  {
   "cell_type": "code",
   "execution_count": null,
   "metadata": {},
   "outputs": [],
   "source": [
    "sim_iv.head()"
   ]
  },
  {
   "cell_type": "code",
   "execution_count": null,
   "metadata": {},
   "outputs": [],
   "source": [
    "len(sim_iv[lambda x : (x['fyear']>=1997)&(x['fyear']<=2012)&(x['n0']==10)&(x['_merge']=='left_only')])+len(sim_iv[lambda x : (x['fyear']>=1997)&(x['fyear']<=2012)&(x['n0']==10)&(x['_merge']=='both')])"
   ]
  },
  {
   "cell_type": "code",
   "execution_count": null,
   "metadata": {},
   "outputs": [],
   "source": [
    "len(sim_iv[lambda x : (x['fyear']>=1997)&(x['fyear']<=2012)&(x['n0']==10)&(x['_merge']=='left_only')])"
   ]
  },
  {
   "cell_type": "code",
   "execution_count": null,
   "metadata": {},
   "outputs": [],
   "source": [
    "len(sim_iv[lambda x : (x['fyear']>=1997)&(x['fyear']<=2012)&(x['n0']==10)&(x['_merge']=='both')])"
   ]
  },
  {
   "cell_type": "code",
   "execution_count": null,
   "metadata": {},
   "outputs": [],
   "source": [
    "len(sim_iv[lambda x : (x['fyear']>=1997)&\n",
    "           (x['fyear']<=2012)&\n",
    "           (x['n0']==10)&\n",
    "           (x['_merge']=='both')&\n",
    "           (x['iv2'].notnull())])"
   ]
  },
  {
   "cell_type": "code",
   "execution_count": null,
   "metadata": {},
   "outputs": [],
   "source": [
    "np.mean(sim_iv[(sim_iv['_merge']=='left_only')&(sim_iv['n0']==10)])"
   ]
  },
  {
   "cell_type": "code",
   "execution_count": null,
   "metadata": {},
   "outputs": [],
   "source": [
    "np.mean(sim_iv[(sim_iv['_merge']=='both')&(sim_iv['n0']==10)])"
   ]
  },
  {
   "cell_type": "markdown",
   "metadata": {},
   "source": [
    "### M&A Disclosure"
   ]
  },
  {
   "cell_type": "code",
   "execution_count": null,
   "metadata": {},
   "outputs": [],
   "source": [
    "disc = pd.read_csv('~/Dropbox/Project/cko/0_data/manual/disc.csv', parse_dates=['DATADATE'])\n",
    "disc['CIK'] = disc['CIK'].apply(lambda x: str(int(x)).zfill(10) if pd.notnull(x) else None)"
   ]
  },
  {
   "cell_type": "code",
   "execution_count": null,
   "metadata": {},
   "outputs": [],
   "source": [
    "temp = sim_iv[lambda x : (x['fyear']>=1997)&\n",
    "           (x['fyear']<=2012)&\n",
    "           (x['n0']==10)&\n",
    "           (x['_merge']=='both')&\n",
    "           (x['iv2'].notnull())]"
   ]
  },
  {
   "cell_type": "code",
   "execution_count": null,
   "metadata": {},
   "outputs": [],
   "source": [
    "disc.head()"
   ]
  },
  {
   "cell_type": "code",
   "execution_count": null,
   "metadata": {},
   "outputs": [],
   "source": [
    "disc = disc.rename(columns={'GVKEY':'agvkey','DATADATE':'datadate'}).set_index(['agvkey','datadate'])"
   ]
  },
  {
   "cell_type": "code",
   "execution_count": null,
   "metadata": {},
   "outputs": [],
   "source": [
    "temp.merge?"
   ]
  },
  {
   "cell_type": "code",
   "execution_count": null,
   "metadata": {},
   "outputs": [],
   "source": [
    "temp.drop(columns=['_merge']).merge(disc,left_index=True,right_index=True,how='outer',indicator=True)[lambda x : x['_merge']=='both']"
   ]
  },
  {
   "cell_type": "code",
   "execution_count": null,
   "metadata": {},
   "outputs": [],
   "source": []
  },
  {
   "cell_type": "code",
   "execution_count": null,
   "metadata": {},
   "outputs": [],
   "source": [
    "iv = iv.join(disc.rename(columns={'GVKEY':'agvkey', 'DATADATE':'datadate'}).set_index(['agvkey', 'datadate']),\\\n",
    "        on=['agvkey', 'datadate'], how='left')"
   ]
  },
  {
   "cell_type": "code",
   "execution_count": null,
   "metadata": {},
   "outputs": [],
   "source": [
    "iv[(iv['MD_A']==5)&(iv['disc']==0)]"
   ]
  },
  {
   "cell_type": "code",
   "execution_count": null,
   "metadata": {},
   "outputs": [],
   "source": [
    "iv['disc'] = np.where((iv['MD_A']>=3)&(iv['PROFORMA'].isin(['I','C'])), 1, 0)"
   ]
  },
  {
   "cell_type": "markdown",
   "metadata": {},
   "source": [
    "Disclosure also might need additonal data collection."
   ]
  },
  {
   "cell_type": "markdown",
   "metadata": {},
   "source": [
    "## Private Target Data (Chen 2019)"
   ]
  },
  {
   "cell_type": "markdown",
   "metadata": {},
   "source": [
    "The _encoding_ option allows proper string imports."
   ]
  },
  {
   "cell_type": "code",
   "execution_count": null,
   "metadata": {},
   "outputs": [],
   "source": [
    "cw = pd.read_sas('../0_data/manual/CW2019.sas7bdat', format = 'sas7bdat', encoding=\"utf-8\")"
   ]
  },
  {
   "cell_type": "code",
   "execution_count": null,
   "metadata": {},
   "outputs": [],
   "source": [
    "cw"
   ]
  },
  {
   "cell_type": "code",
   "execution_count": null,
   "metadata": {},
   "outputs": [],
   "source": [
    "cw[['gvkey','ATTITUDE']].groupby('ATTITUDE').count()"
   ]
  },
  {
   "cell_type": "code",
   "execution_count": null,
   "metadata": {},
   "outputs": [],
   "source": [
    "cw['gvkey1'] = pd.to_numeric(cw['gvkey']).astype('int64')"
   ]
  },
  {
   "cell_type": "markdown",
   "metadata": {},
   "source": [
    "_priv_ dataset is a subset of _compmna_ that will be matched to Ciao-Wei's data."
   ]
  },
  {
   "cell_type": "code",
   "execution_count": null,
   "metadata": {},
   "outputs": [],
   "source": [
    "priv = sdc[(sdc['RANKVAL'].notnull()) & (sdc['TPUBLIC'] == 'Priv.')]\n",
    "priv.drop_duplicates(inplace=True)\n",
    "priv = priv[(priv['DATEEFF'] >= '1997-01-01') & (priv['DATEEFF'] <= '2013-12-31')]\n",
    "private = priv.compute()\n",
    "\n",
    "for var in ['DATEANN', 'DATEEFF']:\n",
    "    private[var] = pd.to_datetime(private[var]).astype('datetime64[ns]')"
   ]
  },
  {
   "cell_type": "markdown",
   "metadata": {},
   "source": [
    "The code below grabs all but 5 _MASTER_DEAL_NO_ from _private_."
   ]
  },
  {
   "cell_type": "code",
   "execution_count": null,
   "metadata": {},
   "outputs": [],
   "source": [
    "# merge by dates and names\n",
    "cw = cw.merge(private[['AMANAMES', 'DATEANN', 'DATEEFF', 'TMANAMES', 'MASTER_DEAL_NO']],\n",
    "         left_on=['ACQ_NAME', 'ANN', 'EFF', 'TRG_NAME'],\n",
    "         right_on=['AMANAMES', 'DATEANN', 'DATEEFF', 'TMANAMES'], how='left')\n",
    "col = list(cw)\n",
    "col.insert(0, col.pop())\n",
    "cw = cw[col]\n",
    "\n",
    "cw.drop(columns=['AMANAMES', 'DATEANN', 'DATEEFF', 'TMANAMES'], inplace=True)\n",
    "\n",
    "cw.drop_duplicates(inplace=True)\n",
    "\n",
    "# review dates and names of the missing\n",
    "missing = private[['MASTER_DEAL_NO', 'AMANAMES', 'DATEANN', 'DATEEFF', 'TMANAMES']].merge(cw[cw['MASTER_DEAL_NO'].isna()][['ANN', 'EFF', 'ACQ_NAME', 'TRG_NAME']],\n",
    "                                                           how='right',left_on=['DATEANN', 'DATEEFF'], right_on=['ANN', 'EFF'])\n",
    "\n",
    "missing.drop_duplicates(inplace=True)\n",
    "missing.reset_index(drop=True, inplace=True)\n",
    "\n",
    "# manual match\n",
    "missing = missing.iloc[[0, 1, 5, 16, 24, 26, 28, 29, 39, 44, 53]][['MASTER_DEAL_NO', 'ANN', 'EFF', 'ACQ_NAME', 'TRG_NAME']]\n",
    "\n",
    "# update MASTER_DEAL_NO\n",
    "cw = cw.merge(missing, \n",
    "         left_on=['ACQ_NAME', 'ANN', 'EFF', 'TRG_NAME'],\n",
    "         right_on=['ACQ_NAME', 'ANN', 'EFF', 'TRG_NAME'], how='left', suffixes=('','_y'))\n",
    "\n",
    "cw['MASTER_DEAL_NO'] = np.where(cw['MASTER_DEAL_NO'].isna(), cw['MASTER_DEAL_NO_y'], cw['MASTER_DEAL_NO'])\n",
    "\n",
    "cw.drop(columns=['MASTER_DEAL_NO_y'], inplace=True)"
   ]
  },
  {
   "cell_type": "code",
   "execution_count": null,
   "metadata": {},
   "outputs": [],
   "source": [
    "col = list(cw)\n",
    "col.insert(1, col.pop())\n",
    "cw = cw[col]"
   ]
  },
  {
   "cell_type": "code",
   "execution_count": null,
   "metadata": {},
   "outputs": [],
   "source": [
    "cw.to_sql('compmna', conn, index=False, if_exists='replace')\n",
    "datadate.to_sql('datadate', conn, index = True, if_exists='replace')\n",
    "qry = '''\n",
    "    select  \n",
    "        a.*, b.datadate\n",
    "    from\n",
    "        compmna a join datadate b on\n",
    "        a.gvkey1 == b.gvkey1 and a.EFF between b.lagdate and b.datadate \n",
    "    '''\n",
    "cw = pd.read_sql_query(qry, conn)"
   ]
  },
  {
   "cell_type": "code",
   "execution_count": null,
   "metadata": {},
   "outputs": [],
   "source": [
    "cw['datadate'] = pd.to_datetime(cw['datadate']).astype('datetime64[ns]')\n",
    "\n",
    "cw['year'] = cw['datadate'].dt.year"
   ]
  },
  {
   "cell_type": "code",
   "execution_count": null,
   "metadata": {},
   "outputs": [],
   "source": [
    "df.to_sql('avg_sim', conn, index=False, if_exists='replace')\n",
    "cw.to_sql('cw', conn, index = False, if_exists='replace')\n",
    "qry = '''\n",
    "    select  \n",
    "        a.*\n",
    "    from\n",
    "        avg_sim a join (select distinct gvkey1, year from cw) b\n",
    "        on a.gvkey1 = b.gvkey1 and a.year = b.year\n",
    "    '''\n",
    "cw_sim = pd.read_sql_query(qry, conn)"
   ]
  },
  {
   "cell_type": "code",
   "execution_count": null,
   "metadata": {},
   "outputs": [],
   "source": [
    "cw_sim = cw_sim[['gvkey1', 'year', 'dt_s1', 'dt_z1', 'dt_s2', 'dt_z2']]"
   ]
  },
  {
   "cell_type": "code",
   "execution_count": null,
   "metadata": {},
   "outputs": [],
   "source": [
    "tnic_industry.to_sql('tnic', conn, index=True, if_exists='replace')\n",
    "cw_sim.to_sql('cw_sim', conn, index = False, if_exists='replace')\n",
    "qry = '''\n",
    "    select  \n",
    "        a.gvkey1, a.year, a.gvkey2\n",
    "    from\n",
    "        tnic a join (select distinct gvkey1, year from cw_sim) b\n",
    "        on a.gvkey1 = b.gvkey1 and a.year = b.year\n",
    "    '''\n",
    "cw_tnic = pd.read_sql_query(qry, conn)"
   ]
  },
  {
   "cell_type": "code",
   "execution_count": null,
   "metadata": {},
   "outputs": [],
   "source": [
    "cw_tnic = cw_tnic.merge(df[['gvkey1', 'year', 'dt_s1', 'dt_s2', 'dt_z1', 'dt_z2']]\n",
    "                        , left_on=['gvkey2', 'year'], right_on=['gvkey1', 'year'])"
   ]
  },
  {
   "cell_type": "code",
   "execution_count": null,
   "metadata": {},
   "outputs": [],
   "source": [
    "cw_tnic.drop(columns=['gvkey1_y'], inplace=True)\n",
    "cw_tnic.rename(columns={'gvkey1_x':'gvkey1'}, inplace=True)"
   ]
  },
  {
   "cell_type": "code",
   "execution_count": null,
   "metadata": {},
   "outputs": [],
   "source": [
    "tnic_avg = cw_tnic.groupby(['gvkey1', 'year']).mean().drop(columns=['gvkey2'])"
   ]
  },
  {
   "cell_type": "code",
   "execution_count": null,
   "metadata": {},
   "outputs": [],
   "source": [
    "cw_sim = cw_sim.merge(tnic_avg, left_on=['gvkey1', 'year'], right_on=['gvkey1', 'year'])"
   ]
  },
  {
   "cell_type": "code",
   "execution_count": null,
   "metadata": {},
   "outputs": [],
   "source": [
    "cw_sim['dt_s1'] = cw_sim['dt_s1_x'] - cw_sim['dt_s1_y']\n",
    "cw_sim['dt_z1'] = cw_sim['dt_z1_x'] - cw_sim['dt_z1_y']\n",
    "cw_sim['dt_s2'] = cw_sim['dt_s2_x'] - cw_sim['dt_s2_y']\n",
    "cw_sim['dt_z2'] = cw_sim['dt_z2_x'] - cw_sim['dt_z2_y'] \n",
    "# cw_sim = cw_sim[['gvkey1', 'year', 'dt_s1', 'dt_z1', 'dt_s2', 'dt_z2']]"
   ]
  },
  {
   "cell_type": "code",
   "execution_count": null,
   "metadata": {},
   "outputs": [],
   "source": [
    "cw = cw.merge(cw_sim, left_on=['gvkey1', 'year'], right_on=['gvkey1', 'year'])"
   ]
  },
  {
   "cell_type": "code",
   "execution_count": null,
   "metadata": {},
   "outputs": [],
   "source": [
    "cw.to_stata('/Users/ohn0000/Dropbox/Project/cko/2_pipeline/cw.dta')"
   ]
  },
  {
   "cell_type": "markdown",
   "metadata": {},
   "source": [
    "### Materiality of M&A"
   ]
  },
  {
   "cell_type": "code",
   "execution_count": null,
   "metadata": {},
   "outputs": [],
   "source": [
    "material = pd.read_csv('/Users/ohn0000/Project/cko/0_data/external/materiality.csv')\n",
    "material.set_index([\"year\", \"gvkey1\"], inplace=True, verify_integrity=True)"
   ]
  },
  {
   "cell_type": "markdown",
   "metadata": {},
   "source": [
    "Be careful since the _year_ here refers to the M&A firm-year. The _year_ in __avg_sim__ is the year competitors are identified. "
   ]
  },
  {
   "cell_type": "code",
   "execution_count": null,
   "metadata": {},
   "outputs": [],
   "source": [
    "manual = disc.join(material)[['DATADATE', 'CIK', 'TGTAT_ACQAT', 'TGTDVAL_ACQAT', 'MD_A', 'PROFORMA']].sort_index()"
   ]
  },
  {
   "cell_type": "code",
   "execution_count": null,
   "metadata": {},
   "outputs": [],
   "source": [
    "# import wrds\n",
    "# db = wrds.Connection(wrds_username = \"yaera\")\n",
    "\n",
    "# ma_details_desc = db.describe_table('sdc', 'ma_details').sort_values('name')\n",
    "# with pd.option_context('display.max_rows', None):\n",
    "#     print(ma_details_desc)"
   ]
  },
  {
   "cell_type": "markdown",
   "metadata": {},
   "source": [
    "|     Variable | Description                    |\n",
    "|:------------:|:-------------------------------|\n",
    "|bookvalue     |Target Book Value (\\$mil)       |\n",
    "|compete       |Competing Bidder (Y/N)          |\n",
    "|competecode   |Competing Bid Deal Code         |  \n",
    "|dateann       |Date Announced                  |\n",
    "|dateannest    |_dateann_ is estimated (Y/N)    | \n",
    "|dateeff       |Date Effective                  | \n",
    "|ebitltm       |Target EBIT LTM (\\$mil)         |\n",
    "|pct_cash      |Percentage of consideration paid in cash|\n",
    "|pct_other|Percentage of consideration paid in other then cash or stock|\n",
    "|pct_stk|Percentage of consideration paid in stock|\n",
    "|pct_unknown|Percentage of consideration which is unknown|\n",
    "|ptincltm|Target Pre-Tax Income LTM (\\$mil)|\n",
    "|salesltm|Target Sales LTM (\\$mil)|\n",
    "|rankval|Ranking Value incl Net Debt of Target (\\$mil)|"
   ]
  },
  {
   "cell_type": "markdown",
   "metadata": {},
   "source": [
    "Run sql query below on _WRDS_"
   ]
  },
  {
   "cell_type": "code",
   "execution_count": null,
   "metadata": {},
   "outputs": [],
   "source": [
    "# import wrds\n",
    "# sdc_query = \"\"\"\n",
    "# select master_deal_no as DealNumber, \n",
    "#         bookvalue, \n",
    "#         compete, \n",
    "#         competecode, \n",
    "#         dateann, \n",
    "#         dateannest, \n",
    "#         dateeff, \n",
    "#         ebitltm, \n",
    "#         pct_cash,\n",
    "#         pct_other,\n",
    "#         pct_stk,\n",
    "#         pct_unknown,\n",
    "#         ptincltm,\n",
    "#         salesltm,\n",
    "#         rankval\n",
    "# from sdc.ma_details\n",
    "# where dateeff is not null \n",
    "# \"\"\"\n",
    "# # and master_deal_no in %(deal_no)s\n",
    "# sdc = db.raw_sql(sdc_query, date_cols=['dateann', 'dateeff'])\n",
    "# sdc.to_pickle('/home/upenn/yaera/sdc.pkl')"
   ]
  },
  {
   "cell_type": "code",
   "execution_count": null,
   "metadata": {},
   "outputs": [],
   "source": [
    "sdc = pd.read_pickle('/Users/ohn0000/Project/cko/0_data/external/sdc.pkl')\n",
    "sdc.drop_duplicates('dealnumber', inplace = True)\n",
    "sdc['dealnumber'] = sdc['dealnumber'].astype('int64')\n",
    "\n",
    "# clear up values and change dtype to 'float'\n",
    "for column in ['bookvalue', 'ebitltm', 'pct_cash', 'pct_other', 'pct_stk', 'pct_unknown', 'ptincltm', 'salesltm', 'rankval']:\n",
    "    sdc[column] = sdc[column].apply(lambda x: np.NaN if x == '*********' else (np.NaN if pd.isna(x) else (float(x.replace(',', '')) if isinstance(x, str) else float(x))))\n",
    "    sdc[column].astype('float16')"
   ]
  },
  {
   "cell_type": "code",
   "execution_count": null,
   "metadata": {},
   "outputs": [],
   "source": [
    "sdc_sub = pd.merge(sdc_link, sdc,\n",
    "                   left_index=True, right_on='dealnumber').drop('dealnumber', axis='columns')\n",
    "sdc_sub.index.name = 'dealnumber'"
   ]
  },
  {
   "cell_type": "code",
   "execution_count": null,
   "metadata": {},
   "outputs": [],
   "source": [
    "sdc_sub.sort_values(['agvkey', 'dateeff'], inplace=True)"
   ]
  },
  {
   "cell_type": "code",
   "execution_count": null,
   "metadata": {},
   "outputs": [],
   "source": [
    "sdc_link['agvkey'].count() / sdc['dealnumber'].count()"
   ]
  },
  {
   "cell_type": "code",
   "execution_count": null,
   "metadata": {},
   "outputs": [],
   "source": [
    "sdc_sub['agvkey'].count() / sdc_link['agvkey'].count() "
   ]
  },
  {
   "cell_type": "code",
   "execution_count": null,
   "metadata": {},
   "outputs": [],
   "source": [
    "sdc_sub.profile_report(style={'full_width':True})"
   ]
  },
  {
   "cell_type": "markdown",
   "metadata": {},
   "source": [
    "Use __compustat__ _datadate_ and gvkey to link the sdc data to the similarity scores"
   ]
  },
  {
   "cell_type": "code",
   "execution_count": null,
   "metadata": {},
   "outputs": [],
   "source": [
    "import wrds\n",
    "db = wrds.Connection(wrds_username = 'hohn')\n",
    "\n",
    "sdc_quary = \"\"\"\n",
    "select gvkey, datadate, fyear, cusip,  cik\n",
    "from comp.funda\n",
    "where consol = %(consol)s and indfmt in %(indfmt)s and datafmt = %(datafmt)s and popsrc = %(popsrc)s and curcd in %(curcd)s\n",
    "\"\"\"\n",
    "\n",
    "parm = {'consol':('C'), 'indfmt' : ('INDL', 'FS'), 'datafmt': ('STD'), 'popsrc' : ('D'), 'curcd' : ('USD', 'CAD')}\n",
    "\n",
    "funda = db.raw_sql(sdc_quary, params = parm, date_cols = ['datadate'])"
   ]
  },
  {
   "cell_type": "code",
   "execution_count": null,
   "metadata": {},
   "outputs": [],
   "source": [
    "funda['start'] = funda['datadate'] - pd.DateOffset(months = 12) + pd.DateOffset(days = 1)\n",
    "funda['gvkey'] = funda['gvkey'].astype('int64')\n",
    "funda.set_index('gvkey', inplace=True)"
   ]
  },
  {
   "cell_type": "code",
   "execution_count": null,
   "metadata": {},
   "outputs": [],
   "source": [
    "funda.fyear = funda.fyear.astype('Int16')"
   ]
  },
  {
   "cell_type": "code",
   "execution_count": null,
   "metadata": {},
   "outputs": [],
   "source": [
    "import pandasql as ps\n",
    "\n",
    "sql_query = '''\n",
    "select a.*, b.datadate, b.fyear, b.cusip, b.cik\n",
    "from sdc_sub a left join funda b\n",
    "on a.agvkey = b.gvkey and a.dateeff between b.start and b.datadate\n",
    "'''\n",
    "\n",
    "newdf = ps.sqldf(sql_query, locals())"
   ]
  },
  {
   "cell_type": "code",
   "execution_count": null,
   "metadata": {},
   "outputs": [],
   "source": [
    "col = list(newdf)\n",
    "for i in range(2, 6):\n",
    "    col.insert(i, col.pop(-1))\n",
    "newdf = newdf.loc[:,col]"
   ]
  },
  {
   "cell_type": "code",
   "execution_count": null,
   "metadata": {},
   "outputs": [],
   "source": [
    "for i in ['datadate', 'dateann', 'dateeff']:\n",
    "    newdf[i] = newdf[i].astype('datetime64[ns]')\n",
    "    \n",
    "newdf['year'] = newdf['datadate'].dt.year.astype('Int16')\n",
    "for i in ['fyear', 'agvkey', 'tgvkey']:\n",
    "    newdf[i] = newdf[i].astype('Int64')"
   ]
  },
  {
   "cell_type": "code",
   "execution_count": null,
   "metadata": {},
   "outputs": [],
   "source": [
    "col = list(newdf)\n",
    "col.insert(col.index('datadate'), col.pop(col.index('year')))\n",
    "newdf = newdf.loc[:,col]"
   ]
  },
  {
   "cell_type": "code",
   "execution_count": null,
   "metadata": {},
   "outputs": [],
   "source": [
    "newdf = newdf.drop_duplicates(subset='dealnumber')"
   ]
  },
  {
   "cell_type": "code",
   "execution_count": null,
   "metadata": {},
   "outputs": [],
   "source": [
    "newdf[newdf['agvkey'].notnull()]"
   ]
  },
  {
   "cell_type": "code",
   "execution_count": null,
   "metadata": {},
   "outputs": [],
   "source": [
    "newdf['rankval'].count()"
   ]
  },
  {
   "cell_type": "markdown",
   "metadata": {},
   "source": [
    "18994 observations with non-missing _rankval_"
   ]
  },
  {
   "cell_type": "code",
   "execution_count": null,
   "metadata": {},
   "outputs": [],
   "source": [
    "newdf['salesltm'].count()"
   ]
  },
  {
   "cell_type": "markdown",
   "metadata": {},
   "source": [
    "8055 observations with non-missing _salesltm_"
   ]
  },
  {
   "cell_type": "code",
   "execution_count": null,
   "metadata": {},
   "outputs": [],
   "source": [
    "np.sum(newdf['rankval'].notnull() & newdf['salesltm'].notnull())"
   ]
  },
  {
   "cell_type": "markdown",
   "metadata": {},
   "source": [
    "6445 observations with both _rankval_ and _salesltm_ available"
   ]
  },
  {
   "cell_type": "markdown",
   "metadata": {},
   "source": [
    "## Append similarity score between acquirer and target"
   ]
  },
  {
   "cell_type": "code",
   "execution_count": null,
   "metadata": {},
   "outputs": [],
   "source": [
    "upload = newdf[newdf['agvkey'].notnull() & newdf['tgvkey'].notnull() & newdf['year'].notnull()][['agvkey', 'tgvkey', 'year']].rename(columns={'agvkey':'gvkey1', 'tgvkey':'gvkey2'})\n",
    "upload.to_csv('/Users/ohn0000/Project/cko/2_pipeline/upload.csv', index=False)\n",
    "!scp /Users/ohn0000/Project/cko/2_pipeline/upload.csv $WRDS:/scratch/ou/hohn"
   ]
  },
  {
   "cell_type": "markdown",
   "metadata": {},
   "source": [
    "Run this on wrds server. The __TNIC_All__ files should be uploaded in scratch beforehand."
   ]
  },
  {
   "cell_type": "code",
   "execution_count": null,
   "metadata": {},
   "outputs": [],
   "source": [
    "\"\"\"\n",
    "The server killed the previous code that joins after combines all files. The current code instead loop over the files.\n",
    "\"\"\"\n",
    "# !cd /scratch/ou/hohn/TNIC_AllPairsDistrib\n",
    "# !cat tnicall1996.txt > tnicall_combined.txt\n",
    "# !for file in tnicall{1997..2017}.txt; do sed '1d' $file >> tnicall_combined.txt; done\n",
    "# !cd ~\n",
    "\n",
    "\n",
    "\"\"\"\n",
    "atsim.py\n",
    "\"\"\"\n"
   ]
  },
  {
   "cell_type": "code",
   "execution_count": null,
   "metadata": {},
   "outputs": [],
   "source": [
    "!scp atsim.py $WRDS:~"
   ]
  },
  {
   "cell_type": "code",
   "execution_count": null,
   "metadata": {},
   "outputs": [],
   "source": [
    "!scp $WRDS:/scratch/ou/hohn/atsim.csv /Users/ohn0000/Project/cko/2_pipeline/"
   ]
  },
  {
   "cell_type": "code",
   "execution_count": null,
   "metadata": {},
   "outputs": [],
   "source": [
    "col = list(newdf)\n",
    "col.insert(col.index('bookvalue'), col.pop(col.index('atsim')))\n",
    "newdf = newdf.loc[:,col]"
   ]
  },
  {
   "cell_type": "markdown",
   "metadata": {},
   "source": [
    "## IV candidates\n",
    "\n",
    "The materiality measure based on deal value will be the last resort for the IV.   \n",
    "Alternatively, 2SLS using multiple IVs is feasible.\n",
    "\n",
    "Candidates\n",
    "* Max deal value\n",
    "* Sum deal value\n",
    "* Datedif between _dateeff_ and _datadate_\n",
    "    * _dateeff_ of the first M&A\n",
    "    * _dateeff_ of the largest M&A\n",
    "    * weighted average of _dateeff_ "
   ]
  },
  {
   "cell_type": "markdown",
   "metadata": {},
   "source": [
    "## Cross-sections\n",
    "* Similarity between acquirer and target \n",
    "    - Relation stronger in diversifying\n",
    "    - Could be more of a U-shaped relation, i.e., competitors don't follow when you move far enough\n",
    "* Average value of pre-similarities between acquirer and close competitors \n",
    "    - Prediction not clear\n",
    "* M&A performance during the completed firm-year\n",
    "    - Relation stronger when M&A was more successful <-> how do we define success of an M&A?\n",
    "* Number of close competitors of the target\n",
    "    - Potential targets are candidates of future mergers\n",
    "* How many competitors were there initially?\n",
    "    - The size of the TNIC industry"
   ]
  }
 ],
 "metadata": {
  "hide_input": false,
  "kernelspec": {
   "display_name": "Python 3",
   "language": "python",
   "name": "python3"
  },
  "language_info": {
   "codemirror_mode": {
    "name": "ipython",
    "version": 3
   },
   "file_extension": ".py",
   "mimetype": "text/x-python",
   "name": "python",
   "nbconvert_exporter": "python",
   "pygments_lexer": "ipython3",
   "version": "3.8.0"
  },
  "latex_envs": {
   "LaTeX_envs_menu_present": true,
   "autoclose": true,
   "autocomplete": true,
   "bibliofile": "biblio.bib",
   "cite_by": "apalike",
   "current_citInitial": 1,
   "eqLabelWithNumbers": true,
   "eqNumInitial": 1,
   "hotkeys": {
    "equation": "Ctrl-E",
    "itemize": "Ctrl-I"
   },
   "labels_anchors": false,
   "latex_user_defs": false,
   "report_style_numbering": false,
   "user_envs_cfg": false
  },
  "toc": {
   "base_numbering": 1,
   "nav_menu": {},
   "number_sections": true,
   "sideBar": true,
   "skip_h1_title": false,
   "title_cell": "Table of Contents",
   "title_sidebar": "Contents",
   "toc_cell": false,
   "toc_position": {},
   "toc_section_display": true,
   "toc_window_display": false
  },
  "varInspector": {
   "cols": {
    "lenName": 16,
    "lenType": 16,
    "lenVar": 40
   },
   "kernels_config": {
    "python": {
     "delete_cmd_postfix": "",
     "delete_cmd_prefix": "del ",
     "library": "var_list.py",
     "varRefreshCmd": "print(var_dic_list())"
    },
    "r": {
     "delete_cmd_postfix": ") ",
     "delete_cmd_prefix": "rm(",
     "library": "var_list.r",
     "varRefreshCmd": "cat(var_dic_list()) "
    }
   },
   "position": {
    "height": "450px",
    "left": "1518px",
    "right": "20px",
    "top": "120px",
    "width": "382px"
   },
   "types_to_exclude": [
    "module",
    "function",
    "builtin_function_or_method",
    "instance",
    "_Feature"
   ],
   "window_display": false
  }
 },
 "nbformat": 4,
 "nbformat_minor": 4
}
